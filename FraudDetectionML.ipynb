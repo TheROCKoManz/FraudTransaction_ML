{
 "cells": [
  {
   "cell_type": "markdown",
   "source": [
    "<H1> Fraud Detection Model</h1>"
   ],
   "metadata": {
    "collapsed": false,
    "pycharm": {
     "name": "#%% md\n"
    }
   }
  },
  {
   "cell_type": "markdown",
   "source": [
    "<H3><font style=\"font-family:calibri\">The model is implemented to predict the Fraud Transactions from the provided dataset.\n",
    "    To create the decision model, RandomForestClassifier is used which gives its output on the decision from several features that are considered to be the deciding features for a fraud transaction, such as Incomplete Amount transaction between end-to-end. \n",
    "    <Br>The model gave a good accuracy and F1 score in comparison to the original accuracy provided in the dataset "
   ],
   "metadata": {
    "collapsed": false,
    "pycharm": {
     "name": "#%% md\n"
    }
   }
  },
  {
   "cell_type": "code",
   "execution_count": null,
   "outputs": [],
   "source": [
    "import pandas as pd"
   ],
   "metadata": {
    "collapsed": false,
    "pycharm": {
     "name": "#%%\n"
    }
   }
  },
  {
   "cell_type": "markdown",
   "source": [
    "# Importing the Dataset"
   ],
   "metadata": {
    "collapsed": false,
    "pycharm": {
     "name": "#%% md\n"
    }
   }
  },
  {
   "cell_type": "code",
   "execution_count": null,
   "outputs": [],
   "source": [
    "data=pd.read_csv(r\"C:\\Codes\\Python\\Data\\Fraud.csv\")\n",
    "data.shape"
   ],
   "metadata": {
    "collapsed": false,
    "pycharm": {
     "name": "#%%\n"
    }
   }
  },
  {
   "cell_type": "markdown",
   "source": [
    "# Sample data"
   ],
   "metadata": {
    "collapsed": false,
    "pycharm": {
     "name": "#%% md\n"
    }
   }
  },
  {
   "cell_type": "code",
   "execution_count": null,
   "outputs": [],
   "source": [
    "data.sample(15)"
   ],
   "metadata": {
    "collapsed": false,
    "pycharm": {
     "name": "#%%\n"
    }
   }
  },
  {
   "cell_type": "markdown",
   "source": [
    "# Data Description"
   ],
   "metadata": {
    "collapsed": false,
    "pycharm": {
     "name": "#%% md\n"
    }
   }
  },
  {
   "cell_type": "code",
   "execution_count": null,
   "outputs": [],
   "source": [
    "print(data.describe().apply(lambda s: s.apply('{0:.5f}'.format)))"
   ],
   "metadata": {
    "collapsed": false,
    "pycharm": {
     "name": "#%%\n"
    }
   }
  },
  {
   "cell_type": "markdown",
   "source": [],
   "metadata": {
    "collapsed": false,
    "pycharm": {
     "name": "#%% md\n"
    }
   }
  },
  {
   "cell_type": "markdown",
   "source": [
    "<H3>First Condition, correcting the 'isFlaggedFraud' value by the given condition:\n",
    "    <Br>\"An illegal attempt in this dataset is an attempt to transfer more than 200000 in a single transaction.\"\n",
    "<Br>Hence missing data according to condition is Corrected</H3>"
   ],
   "metadata": {
    "collapsed": false,
    "pycharm": {
     "name": "#%% md\n"
    }
   }
  },
  {
   "cell_type": "code",
   "execution_count": null,
   "outputs": [],
   "source": [
    "data.loc[data[\"amount\"] >= 200000, \"isFlaggedFraud\"] = 1"
   ],
   "metadata": {
    "collapsed": false,
    "pycharm": {
     "name": "#%%\n"
    }
   }
  },
  {
   "cell_type": "markdown",
   "source": [],
   "metadata": {
    "collapsed": false,
    "pycharm": {
     "name": "#%% md\n"
    }
   }
  },
  {
   "cell_type": "markdown",
   "source": [
    "# Now, creating different Markers to analyse the different kinds of transactions that happened\n"
   ],
   "metadata": {
    "collapsed": false,
    "pycharm": {
     "name": "#%% md\n"
    }
   }
  },
  {
   "cell_type": "markdown",
   "source": [
    "<H3><font style=\"font-family:calibri\">This segment answers the 3rd question about selecting the features determining fraud transactions. To predict if a Transaction is fraud, the conditions should be like:<Br>\n",
    "<p style=\"margin-left:50px\";>1. The Transaction Amount was over the limiting value, i.e. 200000 per transaction.\n",
    "<Br>2. The amount transferred was not equal to the amount received.\n",
    "<Br>3. Receiver's Balance altered without any change in the sender's account balance (Defined Fraud-case) and vice-versa.\n",
    "<Br>4. Sender's account debited without any credit to the Receiver.\n",
    "</p>\n",
    "<Br>\n",
    "Thus, the features to be considered here are:\n",
    "<p style=\"margin-left:50px\";>1. Original Features: amount, oldbalanceOrg, oldbalanceDest, newbalanceOrig, newbalanceDest, isFlaggedFraud, type\n",
    "<br>2. Extracted Features: origTransfer, destTransfer, CompleteTransfer, SuccessfullySent, CompleteAmtRecieved. \n",
    "</p>\n",
    "</H3>"
   ],
   "metadata": {
    "collapsed": false,
    "pycharm": {
     "name": "#%% md\n"
    }
   }
  },
  {
   "cell_type": "markdown",
   "source": [
    "<H3>Creating Extracted feature to display the net transaction from both Origin and Destination.</H3>"
   ],
   "metadata": {
    "collapsed": false,
    "pycharm": {
     "name": "#%% md\n"
    }
   }
  },
  {
   "cell_type": "code",
   "execution_count": null,
   "outputs": [],
   "source": [
    "data['origTransfer']=abs(data.oldbalanceOrg-data.newbalanceOrig)\n",
    "data['destTransfer']=abs(data.oldbalanceDest-data.newbalanceDest)"
   ],
   "metadata": {
    "collapsed": false,
    "pycharm": {
     "name": "#%%\n"
    }
   }
  },
  {
   "cell_type": "markdown",
   "source": [
    "<H3>Creating a Flag to mark the transactions that came out to be Complete from end-to-end.</H3>"
   ],
   "metadata": {
    "collapsed": false,
    "pycharm": {
     "name": "#%% md\n"
    }
   }
  },
  {
   "cell_type": "code",
   "execution_count": null,
   "outputs": [],
   "source": [
    "data['CompleteTransfer'] = 1\n",
    "data.loc[ (data.origTransfer != data.destTransfer)\n",
    "          | (data.amount!=data.origTransfer)\n",
    "          | (data.amount!=data.destTransfer),  'CompleteTransfer'] = 0\n",
    "\n",
    "data.loc[data.nameDest.str.contains(\"M\", case=False)\n",
    "         & ((data.amount == data.origTransfer) | (data.amount == data.destTransfer)) , 'CompleteTransfer'] = 1"
   ],
   "metadata": {
    "collapsed": false,
    "pycharm": {
     "name": "#%%\n"
    }
   }
  },
  {
   "cell_type": "markdown",
   "source": [
    "<H3>Creating a Flag to mark the successfully sent transactions from the Origin-End.</H3>"
   ],
   "metadata": {
    "collapsed": false,
    "pycharm": {
     "name": "#%% md\n"
    }
   }
  },
  {
   "cell_type": "code",
   "execution_count": null,
   "outputs": [],
   "source": [
    "data['SuccessfullySent'] = 1\n",
    "data.loc[ (data.amount!=data.origTransfer),  'SuccessfullySent'] = 0\n",
    "\n",
    "data.loc[data.nameDest.str.contains(\"M\", case=False)\n",
    "         & (data.amount == data.origTransfer), 'SuccessfullySent'] = 1"
   ],
   "metadata": {
    "collapsed": false,
    "pycharm": {
     "name": "#%%\n"
    }
   }
  },
  {
   "cell_type": "markdown",
   "source": [
    "<H3>Creating a Flag to mark the successfully recieved transacions from the Reciever-End.</H3>"
   ],
   "metadata": {
    "collapsed": false,
    "pycharm": {
     "name": "#%% md\n"
    }
   }
  },
  {
   "cell_type": "code",
   "execution_count": null,
   "outputs": [],
   "source": [
    "data['CompleteAmtRecieved'] = 1\n",
    "data.loc[ (data.amount!=data.destTransfer),  'CompleteAmtRecieved'] = 0\n",
    "\n",
    "data.loc[data.nameDest.str.contains(\"M\", case=False)\n",
    "         & (data.amount == data.origTransfer), 'CompleteAmtRecieved'] = 1"
   ],
   "metadata": {
    "collapsed": false,
    "pycharm": {
     "name": "#%%\n"
    }
   }
  },
  {
   "cell_type": "markdown",
   "source": [
    "<H3>Generating a display for manual check of the Transfers.</H3>"
   ],
   "metadata": {
    "collapsed": false,
    "pycharm": {
     "name": "#%% md\n"
    }
   }
  },
  {
   "cell_type": "code",
   "execution_count": null,
   "outputs": [],
   "source": [
    "data[['amount','origTransfer','destTransfer','nameDest','CompleteTransfer','SuccessfullySent','CompleteAmtRecieved']]"
   ],
   "metadata": {
    "collapsed": false,
    "pycharm": {
     "name": "#%%\n"
    }
   }
  },
  {
   "cell_type": "markdown",
   "source": [
    "<H3>Let us now display the Transactions in different segments: Complete, Incomplete (From either Sender or Reciever End) and Frauds-Faulty Transactions. </H3>"
   ],
   "metadata": {
    "collapsed": false,
    "pycharm": {
     "name": "#%% md\n"
    }
   }
  },
  {
   "cell_type": "markdown",
   "source": [
    "<H3>Creating a Dataset out of the Truely-Completed Transactions."
   ],
   "metadata": {
    "collapsed": false,
    "pycharm": {
     "name": "#%% md\n"
    }
   }
  },
  {
   "cell_type": "code",
   "execution_count": null,
   "outputs": [],
   "source": [
    "true=data.where(data.CompleteTransfer==1)\n",
    "true=true.dropna()\n",
    "true.shape"
   ],
   "metadata": {
    "collapsed": false,
    "pycharm": {
     "name": "#%%\n"
    }
   }
  },
  {
   "cell_type": "code",
   "execution_count": null,
   "outputs": [],
   "source": [
    "true.sample(7)"
   ],
   "metadata": {
    "collapsed": false,
    "pycharm": {
     "name": "#%%\n"
    }
   }
  },
  {
   "cell_type": "markdown",
   "source": [
    "<H3>Creating a Dataset out of the Successfully Sent Transactions."
   ],
   "metadata": {
    "collapsed": false,
    "pycharm": {
     "name": "#%% md\n"
    }
   }
  },
  {
   "cell_type": "code",
   "execution_count": null,
   "outputs": [],
   "source": [
    "sentSuccess=data.where(data.SuccessfullySent==1)\n",
    "sentSuccess=sentSuccess.dropna()\n",
    "sentSuccess.shape"
   ],
   "metadata": {
    "collapsed": false,
    "pycharm": {
     "name": "#%%\n"
    }
   }
  },
  {
   "cell_type": "code",
   "execution_count": null,
   "outputs": [],
   "source": [
    "sentSuccess.sample(7)"
   ],
   "metadata": {
    "collapsed": false,
    "pycharm": {
     "name": "#%%\n"
    }
   }
  },
  {
   "cell_type": "markdown",
   "source": [
    "<H3>Creating a Dataset out of the Successfully Recieved Transactions."
   ],
   "metadata": {
    "collapsed": false,
    "pycharm": {
     "name": "#%% md\n"
    }
   }
  },
  {
   "cell_type": "code",
   "execution_count": null,
   "outputs": [],
   "source": [
    "recieveSuccess = data.where(data.CompleteAmtRecieved == 1)\n",
    "recieveSuccess = recieveSuccess.dropna()\n",
    "recieveSuccess.shape"
   ],
   "metadata": {
    "collapsed": false,
    "pycharm": {
     "name": "#%%\n"
    }
   }
  },
  {
   "cell_type": "code",
   "execution_count": null,
   "outputs": [],
   "source": [
    "recieveSuccess.sample(7)"
   ],
   "metadata": {
    "collapsed": false,
    "pycharm": {
     "name": "#%%\n"
    }
   }
  },
  {
   "cell_type": "markdown",
   "source": [
    "<H3>Creating a Dataset out of all other Transactions including Outliers, incomplete or faulty Transactions."
   ],
   "metadata": {
    "collapsed": false,
    "pycharm": {
     "name": "#%% md\n"
    }
   }
  },
  {
   "cell_type": "code",
   "execution_count": null,
   "outputs": [],
   "source": [
    "faultyTransfer=data.where((data.CompleteTransfer == 0) & (data.CompleteAmtRecieved == 0) & (data.SuccessfullySent==0))\n",
    "faultyTransfer=faultyTransfer.dropna()\n",
    "faultyTransfer.shape"
   ],
   "metadata": {
    "collapsed": false,
    "pycharm": {
     "name": "#%%\n"
    }
   }
  },
  {
   "cell_type": "code",
   "execution_count": null,
   "outputs": [],
   "source": [
    "faultyTransfer.sample(16)"
   ],
   "metadata": {
    "collapsed": false,
    "pycharm": {
     "name": "#%%\n"
    }
   }
  },
  {
   "cell_type": "markdown",
   "source": [
    "<H3>Since we have to find out the Fraud Transactions out of the dataset, we are not considering the Successfully Completed Transactions.\n",
    "<bR><BR>Therefore, proceeding with the remaining datasets where Incomplete transactions are made, along the faulty transaction data."
   ],
   "metadata": {
    "collapsed": false,
    "pycharm": {
     "name": "#%% md\n"
    }
   }
  },
  {
   "cell_type": "code",
   "execution_count": null,
   "outputs": [],
   "source": [
    "FraudData=data[~data.isin(true)].dropna()\n",
    "FraudData.shape"
   ],
   "metadata": {
    "collapsed": false,
    "pycharm": {
     "name": "#%%\n"
    }
   }
  },
  {
   "cell_type": "code",
   "execution_count": null,
   "outputs": [],
   "source": [
    "FraudData.where(FraudData.isFraud==1).dropna().sample(7)"
   ],
   "metadata": {
    "collapsed": false,
    "pycharm": {
     "name": "#%%\n"
    }
   }
  },
  {
   "cell_type": "markdown",
   "source": [],
   "metadata": {
    "collapsed": false,
    "pycharm": {
     "name": "#%% md\n"
    }
   }
  },
  {
   "cell_type": "markdown",
   "source": [
    "<H3>\n",
    "Current Accuracy of the model based on Provided Data"
   ],
   "metadata": {
    "collapsed": false,
    "pycharm": {
     "name": "#%% md\n"
    }
   }
  },
  {
   "cell_type": "code",
   "execution_count": null,
   "outputs": [],
   "source": [
    "from sklearn.metrics import accuracy_score\n",
    "print('accuracy = ',round(accuracy_score(FraudData.isFraud, FraudData.isFlaggedFraud)*100),'%')"
   ],
   "metadata": {
    "collapsed": false,
    "pycharm": {
     "name": "#%%\n"
    }
   }
  },
  {
   "cell_type": "markdown",
   "source": [
    "<H3>\n",
    "    Creating Predictor Model for Fraud data Based on the Data"
   ],
   "metadata": {
    "collapsed": false,
    "pycharm": {
     "name": "#%% md\n"
    }
   }
  },
  {
   "cell_type": "code",
   "execution_count": null,
   "outputs": [],
   "source": [
    "FraudData.where(FraudData.isFlaggedFraud==1).dropna()"
   ],
   "metadata": {
    "collapsed": false,
    "pycharm": {
     "name": "#%%\n"
    }
   }
  },
  {
   "cell_type": "markdown",
   "source": [
    "<H3>\n",
    "    Create the OneHotEncoder to convert Type from Categorical to Numerical"
   ],
   "metadata": {
    "collapsed": false,
    "pycharm": {
     "name": "#%% md\n"
    }
   }
  },
  {
   "cell_type": "code",
   "execution_count": null,
   "outputs": [],
   "source": [
    "FraudDataOHE = pd.get_dummies (FraudData['type'], drop_first=True)"
   ],
   "metadata": {
    "collapsed": false,
    "pycharm": {
     "name": "#%%\n"
    }
   }
  },
  {
   "cell_type": "code",
   "execution_count": null,
   "outputs": [],
   "source": [
    "FraudData=FraudData.join(FraudDataOHE)\n",
    "FraudData"
   ],
   "metadata": {
    "collapsed": false,
    "pycharm": {
     "name": "#%%\n"
    }
   }
  },
  {
   "cell_type": "markdown",
   "source": [
    "<H3>Using Random Forest Classifier as the Fraud Predictor"
   ],
   "metadata": {
    "collapsed": false,
    "pycharm": {
     "name": "#%% md\n"
    }
   }
  },
  {
   "cell_type": "code",
   "execution_count": null,
   "outputs": [],
   "source": [
    "from sklearn.ensemble import RandomForestClassifier\n",
    "from sklearn.model_selection import train_test_split"
   ],
   "metadata": {
    "collapsed": false,
    "pycharm": {
     "name": "#%%\n"
    }
   }
  },
  {
   "cell_type": "markdown",
   "source": [
    "<H3>\n",
    "    Discarding Unnecessary Columns from Predictor"
   ],
   "metadata": {
    "collapsed": false,
    "pycharm": {
     "name": "#%% md\n"
    }
   }
  },
  {
   "cell_type": "code",
   "execution_count": null,
   "outputs": [],
   "source": [
    "X = FraudData[['amount','oldbalanceDest','oldbalanceOrg','newbalanceDest','newbalanceOrig','origTransfer','destTransfer', 'CASH_OUT','DEBIT','PAYMENT','TRANSFER']]\n",
    "Y = FraudData[['isFraud']]"
   ],
   "metadata": {
    "collapsed": false,
    "pycharm": {
     "name": "#%%\n"
    }
   }
  },
  {
   "cell_type": "code",
   "execution_count": null,
   "outputs": [],
   "source": [
    "xtrain, xtest, ytrain, ytest = train_test_split(X,Y,test_size=0.3)"
   ],
   "metadata": {
    "collapsed": false,
    "pycharm": {
     "name": "#%%\n"
    }
   }
  },
  {
   "cell_type": "code",
   "execution_count": null,
   "outputs": [],
   "source": [
    "print(pd.DataFrame(xtrain))"
   ],
   "metadata": {
    "collapsed": false,
    "pycharm": {
     "name": "#%%\n"
    }
   }
  },
  {
   "cell_type": "code",
   "execution_count": null,
   "outputs": [],
   "source": [
    "classifier= RandomForestClassifier(criterion='gini', random_state=0)\n",
    "classifier.fit(xtrain, ytrain)"
   ],
   "metadata": {
    "collapsed": false,
    "pycharm": {
     "name": "#%%\n"
    }
   }
  },
  {
   "cell_type": "code",
   "execution_count": null,
   "outputs": [],
   "source": [
    "Y_Pred = classifier.predict(xtest)"
   ],
   "metadata": {
    "collapsed": false,
    "pycharm": {
     "name": "#%%\n"
    }
   }
  },
  {
   "cell_type": "markdown",
   "source": [
    "<H2><font style=\"font-family:calibri\">Performance Metrics</h2>\n",
    "    <h3>Analysing the accuracy, f1 score, precision and recall of the Model, it can be considered that it is an efficient model to predict fraud transactions if the necessary parameters are provided.</h3>"
   ],
   "metadata": {
    "collapsed": false,
    "pycharm": {
     "name": "#%% md\n"
    }
   }
  },
  {
   "cell_type": "code",
   "execution_count": null,
   "outputs": [],
   "source": [
    "from sklearn.metrics import f1_score, accuracy_score, precision_score, recall_score, roc_auc_score\n",
    "print('accuracy = ',round(accuracy_score(ytest, Y_Pred)*100,2),'%')\n",
    "print('precision = ',round(precision_score(ytest, Y_Pred)*100,2),'%')\n",
    "print('recall = ',round(recall_score(ytest, Y_Pred)*100,2),'%')\n",
    "print('f1-score = ',round(f1_score(ytest, Y_Pred)*100,2),'%')\n",
    "print('roc_auc score = ',round(roc_auc_score(ytest, Y_Pred)*100,2),'%\\n\\n')\n",
    "\n",
    "from sklearn.metrics import classification_report\n",
    "print(classification_report(ytest, Y_Pred))"
   ],
   "metadata": {
    "collapsed": false,
    "pycharm": {
     "name": "#%%\n"
    }
   }
  },
  {
   "cell_type": "code",
   "execution_count": null,
   "outputs": [],
   "source": [
    "from matplotlib import pyplot as plt\n",
    "from sklearn.metrics import confusion_matrix\n",
    "import seaborn as sns\n",
    "cm = confusion_matrix(ytest, Y_Pred)\n",
    "print(cm)\n",
    "plt.figure(figsize=(9,6))\n",
    "sns.heatmap(cm,annot=True)\n",
    "plt.xlabel('Predicted Fraud')\n",
    "plt.ylabel('Original Fraud')"
   ],
   "metadata": {
    "collapsed": false,
    "pycharm": {
     "name": "#%%\n"
    }
   }
  },
  {
   "cell_type": "markdown",
   "source": [
    "<H3> As mentioned above, the features that finally are giving out the correct result for the fraudulant transactions are:<br> 'amount','oldbalanceDest','oldbalanceOrg','newbalanceDest','newbalanceOrig','origTransfer','destTransfer', 'type'.\n",
    "    \n",
    "<br> These factors determine whether the transaction is fraud or not on the basis of the given conditions such as the limits-per-transaction, end-to-end complete transaction of amounts, etc. the type of transaction is also considered as the isFraud feature is considered when the Fraudulated user cashes out all of the victim's amount, or such, whereas the balance logs play a vital role for checking out of complete transactions."
   ],
   "metadata": {
    "collapsed": false,
    "pycharm": {
     "name": "#%% md\n"
    }
   }
  },
  {
   "cell_type": "markdown",
   "source": [
    "<H3>Now mapping the prediction on the complete dataset"
   ],
   "metadata": {
    "collapsed": false,
    "pycharm": {
     "name": "#%% md\n"
    }
   }
  },
  {
   "cell_type": "code",
   "execution_count": null,
   "outputs": [],
   "source": [
    "Fraud_Predict = classifier.predict(X)\n",
    "Fraud_Predict=pd.DataFrame(Fraud_Predict)"
   ],
   "metadata": {
    "collapsed": false,
    "pycharm": {
     "name": "#%%\n"
    }
   }
  },
  {
   "cell_type": "code",
   "execution_count": null,
   "outputs": [],
   "source": [
    "FraudData=FraudData.drop(columns=FraudData[['CASH_OUT','DEBIT','PAYMENT','TRANSFER','origTransfer','destTransfer','CompleteTransfer','SuccessfullySent', 'CompleteAmtRecieved']])"
   ],
   "metadata": {
    "collapsed": false,
    "pycharm": {
     "name": "#%%\n"
    }
   }
  },
  {
   "cell_type": "code",
   "execution_count": null,
   "outputs": [],
   "source": [
    "FraudData['NewPredict']=Fraud_Predict\n",
    "FraudData=FraudData.dropna()"
   ],
   "metadata": {
    "collapsed": false,
    "pycharm": {
     "name": "#%%\n"
    }
   }
  },
  {
   "cell_type": "markdown",
   "source": [
    "<H3>Displaying Fraud Predicted Samples which were originally flagged as Fraud"
   ],
   "metadata": {
    "collapsed": false,
    "pycharm": {
     "name": "#%% md\n"
    }
   }
  },
  {
   "cell_type": "code",
   "execution_count": null,
   "outputs": [],
   "source": [
    "FraudData.where((FraudData.NewPredict==1) & ((FraudData.isFraud==1) | (FraudData.isFlaggedFraud==1))).dropna()"
   ],
   "metadata": {
    "collapsed": false,
    "pycharm": {
     "name": "#%%\n"
    }
   }
  },
  {
   "cell_type": "markdown",
   "source": [
    "<H3>Displaying Non-Fraud Predicted Samples"
   ],
   "metadata": {
    "collapsed": false,
    "pycharm": {
     "name": "#%% md\n"
    }
   }
  },
  {
   "cell_type": "code",
   "execution_count": null,
   "outputs": [],
   "source": [
    "FraudData.where(FraudData.NewPredict==0).sample(7)"
   ],
   "metadata": {
    "collapsed": false,
    "pycharm": {
     "name": "#%%\n"
    }
   }
  },
  {
   "cell_type": "markdown",
   "source": [
    "<H3>Displaying Proportion of Frauds in original Dataset"
   ],
   "metadata": {
    "collapsed": false,
    "pycharm": {
     "name": "#%% md\n"
    }
   }
  },
  {
   "cell_type": "code",
   "execution_count": null,
   "outputs": [],
   "source": [
    "true=true.drop(columns=true[['origTransfer','destTransfer','CompleteTransfer','SuccessfullySent', 'CompleteAmtRecieved']])"
   ],
   "metadata": {
    "collapsed": false,
    "pycharm": {
     "name": "#%%\n"
    }
   }
  },
  {
   "cell_type": "code",
   "execution_count": null,
   "outputs": [],
   "source": [
    "FinalData= pd.concat([true, FraudData])"
   ],
   "metadata": {
    "collapsed": false,
    "pycharm": {
     "name": "#%%\n"
    }
   }
  },
  {
   "cell_type": "code",
   "execution_count": null,
   "outputs": [],
   "source": [
    "Frauds=FinalData['NewPredict'].value_counts()[1]\n",
    "Non_Frauds=FinalData['NewPredict'].value_counts()[0]\n",
    "print('\\n\\nTotal Fraud Transactions: ',Frauds,' --> ',round(Frauds/(Frauds+Non_Frauds)*100,2),'% of total Transactions')\n",
    "print('Total Non-Fraud Transactions: ',Non_Frauds,' --> ',round(Non_Frauds/(Frauds+Non_Frauds)*100,2),'% of total Transactions')"
   ],
   "metadata": {
    "collapsed": false,
    "pycharm": {
     "name": "#%%\n"
    }
   }
  },
  {
   "cell_type": "markdown",
   "source": [
    "<H2>Conclusion:</h2>\n",
    "<H3>To conclude, it can be inferred that the company can reduce the amount of fraud transactions firstly by not allowing any transaction over the limit at a time. It may also analyse the change of data for the Merchant accounts as well in order to keep a check if any merchant is performing frauds or not. The total endpoint transaction should be preserved in order to reduce incomplete transaction with proper monitoring.</h3>"
   ],
   "metadata": {
    "collapsed": false,
    "pycharm": {
     "name": "#%% md\n"
    }
   }
  },
  {
   "cell_type": "code",
   "execution_count": 39,
   "metadata": {
    "pycharm": {
     "name": "#%%\n"
    }
   },
   "outputs": [],
   "source": [
    "FinalData= pd.concat([true, FraudData])"
   ]
  },
  {
   "cell_type": "code",
   "execution_count": 40,
   "metadata": {
    "pycharm": {
     "name": "#%%\n"
    }
   },
   "outputs": [
    {
     "name": "stdout",
     "output_type": "stream",
     "text": [
      "\n",
      "\n",
      "Total Fraud Transactions:  768  -->  0.08 % of total Transactions\n",
      "Total Non-Fraud Transactions:  933484  -->  99.92 % of total Transactions\n"
     ]
    }
   ],
   "source": [
    "Frauds=FinalData['NewPredict'].value_counts()[1]\n",
    "Non_Frauds=FinalData['NewPredict'].value_counts()[0]\n",
    "print('\\n\\nTotal Fraud Transactions: ',Frauds,' --> ',round(Frauds/(Frauds+Non_Frauds)*100,2),'% of total Transactions')\n",
    "print('Total Non-Fraud Transactions: ',Non_Frauds,' --> ',round(Non_Frauds/(Frauds+Non_Frauds)*100,2),'% of total Transactions')"
   ]
  },
  {
   "cell_type": "markdown",
   "metadata": {
    "pycharm": {
     "name": "#%% md\n"
    }
   },
   "source": [
    "<H2>Conclusion:</h2>\n",
    "<H3>To conclude, it can be inferred that the company can reduce the amount of fraud transactions firstly by not allowing any transaction over the limit at a time. It may also analyse the change of data for the Merchant accounts as well in order to keep a check if any merchant is performing frauds or not. The total endpoint transaction should be preserved in order to reduce incomplete transaction with proper monitoring.</h3>"
   ]
  }
 ],
 "metadata": {
  "kernelspec": {
   "display_name": "Python 3 (ipykernel)",
   "language": "python",
   "name": "python3"
  },
  "language_info": {
   "codemirror_mode": {
    "name": "ipython",
    "version": 3
   },
   "file_extension": ".py",
   "mimetype": "text/x-python",
   "name": "python",
   "nbconvert_exporter": "python",
   "pygments_lexer": "ipython3",
   "version": "3.8.8"
  }
 },
 "nbformat": 4,
 "nbformat_minor": 1
}