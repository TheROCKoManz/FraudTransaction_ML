{
 "cells": [
  {
   "cell_type": "markdown",
   "source": [
    "## Fraud Detection Model"
   ],
   "metadata": {
    "collapsed": false,
    "pycharm": {
     "name": "#%% md\n"
    }
   }
  },
  {
   "cell_type": "markdown",
   "source": [
    "# The model is implemented to predict the Fraud Transactions from the provided dataset.\n",
    "# To create the decision model, RandomForestClassifier is used which gives its output on the decision from several features that are considered to be the deciding features for a fraud transaction, such as Incomplete Amount transaction between end-to-end.\n",
    "# The model gave a good accuracy and F1 score in comparison to the original accuracy provided in the dataset"
   ],
   "metadata": {
    "collapsed": false,
    "pycharm": {
     "name": "#%% md\n"
    }
   }
  },
  {
   "cell_type": "code",
   "execution_count": 46,
   "outputs": [],
   "source": [
    "import pandas as pd"
   ],
   "metadata": {
    "collapsed": false,
    "pycharm": {
     "name": "#%%\n"
    }
   }
  },
  {
   "cell_type": "markdown",
   "source": [
    "# Importing the Dataset"
   ],
   "metadata": {
    "collapsed": false,
    "pycharm": {
     "name": "#%% md\n"
    }
   }
  },
  {
   "cell_type": "code",
   "execution_count": 47,
   "outputs": [
    {
     "data": {
      "text/plain": "(1048575, 11)"
     },
     "execution_count": 47,
     "metadata": {},
     "output_type": "execute_result"
    }
   ],
   "source": [
    "data=pd.read_csv(r\"C:\\Codes\\Python\\Data\\Fraud.csv\")\n",
    "data.shape"
   ],
   "metadata": {
    "collapsed": false,
    "pycharm": {
     "name": "#%%\n"
    }
   }
  },
  {
   "cell_type": "markdown",
   "source": [
    "# Sample data"
   ],
   "metadata": {
    "collapsed": false,
    "pycharm": {
     "name": "#%% md\n"
    }
   }
  },
  {
   "cell_type": "code",
   "execution_count": 48,
   "outputs": [
    {
     "data": {
      "text/plain": "         step      type     amount     nameOrig  oldbalanceOrg  \\\n762538     38   PAYMENT    6374.07  C1983692957      459343.00   \n854355     41  CASH_OUT  194684.78  C1844360843           0.00   \n167218     12   CASH_IN  104599.83   C502966576        7022.00   \n128559     11   PAYMENT   10302.02  C1818304108      100848.26   \n608381     34   CASH_IN  161692.88   C343099318     1911851.22   \n1009628    46   PAYMENT    2479.68  C1986553115       20508.00   \n438048     18  CASH_OUT  268303.92    C56180022           0.00   \n999104     45   CASH_IN   60491.03   C344584138     8474991.86   \n780613     39   PAYMENT    5880.99  C1065229573           0.00   \n190231     13  CASH_OUT   79452.44   C828713153           0.00   \n867274     42   PAYMENT    2574.88  C1014939857      181240.91   \n324328     16  CASH_OUT  166198.63  C1558350123           0.00   \n837586     41   PAYMENT    4496.69   C698499697      146673.00   \n591895     33   PAYMENT    1702.50  C1479871627       30415.00   \n877849     42  CASH_OUT  100627.53   C627459661           0.00   \n\n         newbalanceOrig     nameDest  oldbalanceDest  newbalanceDest  isFraud  \\\n762538        452968.93  M1629543337            0.00            0.00        0   \n854355             0.00   C185783458      1031801.40      1307751.93        0   \n167218        111621.83  C1351026999            0.00            0.00        0   \n128559         90546.24   M694231451            0.00            0.00        0   \n608381       2073544.10  C1884155832       422964.95       450034.34        0   \n1009628        18028.32  M1091165250            0.00            0.00        0   \n438048             0.00    C32794667       313607.04       581910.96        0   \n999104       8535482.89  C1086872230       169652.71       109161.68        0   \n780613             0.00   M422338472            0.00            0.00        0   \n190231             0.00  C1092136037       572376.59       618375.27        0   \n867274        178666.03  M1351106855            0.00            0.00        0   \n324328             0.00  C1772274858       979785.15      1251039.24        0   \n837586        142176.31  M2136152411            0.00            0.00        0   \n591895         28712.50  M1774467855            0.00            0.00        0   \n877849             0.00  C1929496638      2273858.90      2374486.44        0   \n\n         isFlaggedFraud  \n762538                0  \n854355                0  \n167218                0  \n128559                0  \n608381                0  \n1009628               0  \n438048                0  \n999104                0  \n780613                0  \n190231                0  \n867274                0  \n324328                0  \n837586                0  \n591895                0  \n877849                0  ",
      "text/html": "<div>\n<style scoped>\n    .dataframe tbody tr th:only-of-type {\n        vertical-align: middle;\n    }\n\n    .dataframe tbody tr th {\n        vertical-align: top;\n    }\n\n    .dataframe thead th {\n        text-align: right;\n    }\n</style>\n<table border=\"1\" class=\"dataframe\">\n  <thead>\n    <tr style=\"text-align: right;\">\n      <th></th>\n      <th>step</th>\n      <th>type</th>\n      <th>amount</th>\n      <th>nameOrig</th>\n      <th>oldbalanceOrg</th>\n      <th>newbalanceOrig</th>\n      <th>nameDest</th>\n      <th>oldbalanceDest</th>\n      <th>newbalanceDest</th>\n      <th>isFraud</th>\n      <th>isFlaggedFraud</th>\n    </tr>\n  </thead>\n  <tbody>\n    <tr>\n      <th>762538</th>\n      <td>38</td>\n      <td>PAYMENT</td>\n      <td>6374.07</td>\n      <td>C1983692957</td>\n      <td>459343.00</td>\n      <td>452968.93</td>\n      <td>M1629543337</td>\n      <td>0.00</td>\n      <td>0.00</td>\n      <td>0</td>\n      <td>0</td>\n    </tr>\n    <tr>\n      <th>854355</th>\n      <td>41</td>\n      <td>CASH_OUT</td>\n      <td>194684.78</td>\n      <td>C1844360843</td>\n      <td>0.00</td>\n      <td>0.00</td>\n      <td>C185783458</td>\n      <td>1031801.40</td>\n      <td>1307751.93</td>\n      <td>0</td>\n      <td>0</td>\n    </tr>\n    <tr>\n      <th>167218</th>\n      <td>12</td>\n      <td>CASH_IN</td>\n      <td>104599.83</td>\n      <td>C502966576</td>\n      <td>7022.00</td>\n      <td>111621.83</td>\n      <td>C1351026999</td>\n      <td>0.00</td>\n      <td>0.00</td>\n      <td>0</td>\n      <td>0</td>\n    </tr>\n    <tr>\n      <th>128559</th>\n      <td>11</td>\n      <td>PAYMENT</td>\n      <td>10302.02</td>\n      <td>C1818304108</td>\n      <td>100848.26</td>\n      <td>90546.24</td>\n      <td>M694231451</td>\n      <td>0.00</td>\n      <td>0.00</td>\n      <td>0</td>\n      <td>0</td>\n    </tr>\n    <tr>\n      <th>608381</th>\n      <td>34</td>\n      <td>CASH_IN</td>\n      <td>161692.88</td>\n      <td>C343099318</td>\n      <td>1911851.22</td>\n      <td>2073544.10</td>\n      <td>C1884155832</td>\n      <td>422964.95</td>\n      <td>450034.34</td>\n      <td>0</td>\n      <td>0</td>\n    </tr>\n    <tr>\n      <th>1009628</th>\n      <td>46</td>\n      <td>PAYMENT</td>\n      <td>2479.68</td>\n      <td>C1986553115</td>\n      <td>20508.00</td>\n      <td>18028.32</td>\n      <td>M1091165250</td>\n      <td>0.00</td>\n      <td>0.00</td>\n      <td>0</td>\n      <td>0</td>\n    </tr>\n    <tr>\n      <th>438048</th>\n      <td>18</td>\n      <td>CASH_OUT</td>\n      <td>268303.92</td>\n      <td>C56180022</td>\n      <td>0.00</td>\n      <td>0.00</td>\n      <td>C32794667</td>\n      <td>313607.04</td>\n      <td>581910.96</td>\n      <td>0</td>\n      <td>0</td>\n    </tr>\n    <tr>\n      <th>999104</th>\n      <td>45</td>\n      <td>CASH_IN</td>\n      <td>60491.03</td>\n      <td>C344584138</td>\n      <td>8474991.86</td>\n      <td>8535482.89</td>\n      <td>C1086872230</td>\n      <td>169652.71</td>\n      <td>109161.68</td>\n      <td>0</td>\n      <td>0</td>\n    </tr>\n    <tr>\n      <th>780613</th>\n      <td>39</td>\n      <td>PAYMENT</td>\n      <td>5880.99</td>\n      <td>C1065229573</td>\n      <td>0.00</td>\n      <td>0.00</td>\n      <td>M422338472</td>\n      <td>0.00</td>\n      <td>0.00</td>\n      <td>0</td>\n      <td>0</td>\n    </tr>\n    <tr>\n      <th>190231</th>\n      <td>13</td>\n      <td>CASH_OUT</td>\n      <td>79452.44</td>\n      <td>C828713153</td>\n      <td>0.00</td>\n      <td>0.00</td>\n      <td>C1092136037</td>\n      <td>572376.59</td>\n      <td>618375.27</td>\n      <td>0</td>\n      <td>0</td>\n    </tr>\n    <tr>\n      <th>867274</th>\n      <td>42</td>\n      <td>PAYMENT</td>\n      <td>2574.88</td>\n      <td>C1014939857</td>\n      <td>181240.91</td>\n      <td>178666.03</td>\n      <td>M1351106855</td>\n      <td>0.00</td>\n      <td>0.00</td>\n      <td>0</td>\n      <td>0</td>\n    </tr>\n    <tr>\n      <th>324328</th>\n      <td>16</td>\n      <td>CASH_OUT</td>\n      <td>166198.63</td>\n      <td>C1558350123</td>\n      <td>0.00</td>\n      <td>0.00</td>\n      <td>C1772274858</td>\n      <td>979785.15</td>\n      <td>1251039.24</td>\n      <td>0</td>\n      <td>0</td>\n    </tr>\n    <tr>\n      <th>837586</th>\n      <td>41</td>\n      <td>PAYMENT</td>\n      <td>4496.69</td>\n      <td>C698499697</td>\n      <td>146673.00</td>\n      <td>142176.31</td>\n      <td>M2136152411</td>\n      <td>0.00</td>\n      <td>0.00</td>\n      <td>0</td>\n      <td>0</td>\n    </tr>\n    <tr>\n      <th>591895</th>\n      <td>33</td>\n      <td>PAYMENT</td>\n      <td>1702.50</td>\n      <td>C1479871627</td>\n      <td>30415.00</td>\n      <td>28712.50</td>\n      <td>M1774467855</td>\n      <td>0.00</td>\n      <td>0.00</td>\n      <td>0</td>\n      <td>0</td>\n    </tr>\n    <tr>\n      <th>877849</th>\n      <td>42</td>\n      <td>CASH_OUT</td>\n      <td>100627.53</td>\n      <td>C627459661</td>\n      <td>0.00</td>\n      <td>0.00</td>\n      <td>C1929496638</td>\n      <td>2273858.90</td>\n      <td>2374486.44</td>\n      <td>0</td>\n      <td>0</td>\n    </tr>\n  </tbody>\n</table>\n</div>"
     },
     "execution_count": 48,
     "metadata": {},
     "output_type": "execute_result"
    }
   ],
   "source": [
    "data.sample(15)"
   ],
   "metadata": {
    "collapsed": false,
    "pycharm": {
     "name": "#%%\n"
    }
   }
  },
  {
   "cell_type": "markdown",
   "source": [
    "# Data Description"
   ],
   "metadata": {
    "collapsed": false,
    "pycharm": {
     "name": "#%% md\n"
    }
   }
  },
  {
   "cell_type": "code",
   "execution_count": 49,
   "outputs": [
    {
     "name": "stdout",
     "output_type": "stream",
     "text": [
      "                step          amount   oldbalanceOrg  newbalanceOrig  \\\n",
      "count  1048575.00000   1048575.00000   1048575.00000   1048575.00000   \n",
      "mean        26.96617    158666.97553    874009.54435    893808.89803   \n",
      "std         15.62325    264940.93036   2971750.56005   3008271.33343   \n",
      "min          1.00000         0.10000         0.00000         0.00000   \n",
      "25%         15.00000     12149.06500         0.00000         0.00000   \n",
      "50%         20.00000     76343.33000     16002.00000         0.00000   \n",
      "75%         39.00000    213761.89000    136642.02000    174599.99000   \n",
      "max         95.00000  10000000.00000  38900000.00000  38900000.00000   \n",
      "\n",
      "       oldbalanceDest  newbalanceDest        isFraud isFlaggedFraud  \n",
      "count   1048575.00000   1048575.00000  1048575.00000  1048575.00000  \n",
      "mean     978160.04928   1114197.96847        0.00109        0.00000  \n",
      "std     2296780.39248   2416593.12301        0.03298        0.00000  \n",
      "min           0.00000         0.00000        0.00000        0.00000  \n",
      "25%           0.00000         0.00000        0.00000        0.00000  \n",
      "50%      126377.21000    218260.36000        0.00000        0.00000  \n",
      "75%      915923.47500   1149807.51000        0.00000        0.00000  \n",
      "max    42100000.00000  42200000.00000        1.00000        0.00000  \n"
     ]
    }
   ],
   "source": [
    "print(data.describe().apply(lambda s: s.apply('{0:.5f}'.format)))"
   ],
   "metadata": {
    "collapsed": false,
    "pycharm": {
     "name": "#%%\n"
    }
   }
  },
  {
   "cell_type": "markdown",
   "source": [],
   "metadata": {
    "collapsed": false,
    "pycharm": {
     "name": "#%% md\n"
    }
   }
  },
  {
   "cell_type": "markdown",
   "source": [
    "<H3>First Condition, correcting the 'isFlaggedFraud' value by the given condition:\n",
    "    <Br>\"An illegal attempt in this dataset is an attempt to transfer more than 200000 in a single transaction.\"\n",
    "<Br>Hence missing data according to condition is Corrected</H3>"
   ],
   "metadata": {
    "collapsed": false,
    "pycharm": {
     "name": "#%% md\n"
    }
   }
  },
  {
   "cell_type": "code",
   "execution_count": 50,
   "outputs": [],
   "source": [
    "data.loc[data[\"amount\"] >= 200000, \"isFlaggedFraud\"] = 1"
   ],
   "metadata": {
    "collapsed": false,
    "pycharm": {
     "name": "#%%\n"
    }
   }
  },
  {
   "cell_type": "markdown",
   "source": [],
   "metadata": {
    "collapsed": false,
    "pycharm": {
     "name": "#%% md\n"
    }
   }
  },
  {
   "cell_type": "markdown",
   "source": [
    "# Now, creating different Markers to analyse the different kinds of transactions that happened\n"
   ],
   "metadata": {
    "collapsed": false,
    "pycharm": {
     "name": "#%% md\n"
    }
   }
  },
  {
   "cell_type": "markdown",
   "source": [
    "<H3><font style=\"font-family:calibri\">This segment answers the 3rd question about selecting the features determining fraud transactions. To predict if a Transaction is fraud, the conditions should be like:<Br>\n",
    "<p style=\"margin-left:50px\";>1. The Transaction Amount was over the limiting value, i.e. 200000 per transaction.\n",
    "<Br>2. The amount transferred was not equal to the amount received.\n",
    "<Br>3. Receiver's Balance altered without any change in the sender's account balance (Defined Fraud-case) and vice-versa.\n",
    "<Br>4. Sender's account debited without any credit to the Receiver.\n",
    "</p>\n",
    "<Br>\n",
    "Thus, the features to be considered here are:\n",
    "<p style=\"margin-left:50px\";>1. Original Features: amount, oldbalanceOrg, oldbalanceDest, newbalanceOrig, newbalanceDest, isFlaggedFraud, type\n",
    "<br>2. Extracted Features: origTransfer, destTransfer, CompleteTransfer, SuccessfullySent, CompleteAmtRecieved. \n",
    "</p>\n",
    "</H3>"
   ],
   "metadata": {
    "collapsed": false,
    "pycharm": {
     "name": "#%% md\n"
    }
   }
  },
  {
   "cell_type": "markdown",
   "source": [
    "<H3>Creating Extracted feature to display the net transaction from both Origin and Destination.</H3>"
   ],
   "metadata": {
    "collapsed": false,
    "pycharm": {
     "name": "#%% md\n"
    }
   }
  },
  {
   "cell_type": "code",
   "execution_count": 51,
   "outputs": [],
   "source": [
    "data['origTransfer']=abs(data.oldbalanceOrg-data.newbalanceOrig)\n",
    "data['destTransfer']=abs(data.oldbalanceDest-data.newbalanceDest)"
   ],
   "metadata": {
    "collapsed": false,
    "pycharm": {
     "name": "#%%\n"
    }
   }
  },
  {
   "cell_type": "markdown",
   "source": [
    "<H3>Creating a Flag to mark the transactions that came out to be Complete from end-to-end.</H3>"
   ],
   "metadata": {
    "collapsed": false,
    "pycharm": {
     "name": "#%% md\n"
    }
   }
  },
  {
   "cell_type": "code",
   "execution_count": 52,
   "outputs": [],
   "source": [
    "data['CompleteTransfer'] = 1\n",
    "data.loc[ (data.origTransfer != data.destTransfer)\n",
    "          | (data.amount!=data.origTransfer)\n",
    "          | (data.amount!=data.destTransfer),  'CompleteTransfer'] = 0\n",
    "\n",
    "data.loc[data.nameDest.str.contains(\"M\", case=False)\n",
    "         & ((data.amount == data.origTransfer) | (data.amount == data.destTransfer)) , 'CompleteTransfer'] = 1"
   ],
   "metadata": {
    "collapsed": false,
    "pycharm": {
     "name": "#%%\n"
    }
   }
  },
  {
   "cell_type": "markdown",
   "source": [
    "<H3>Creating a Flag to mark the successfully sent transactions from the Origin-End.</H3>"
   ],
   "metadata": {
    "collapsed": false,
    "pycharm": {
     "name": "#%% md\n"
    }
   }
  },
  {
   "cell_type": "code",
   "execution_count": 53,
   "outputs": [],
   "source": [
    "data['SuccessfullySent'] = 1\n",
    "data.loc[ (data.amount!=data.origTransfer),  'SuccessfullySent'] = 0\n",
    "\n",
    "data.loc[data.nameDest.str.contains(\"M\", case=False)\n",
    "         & (data.amount == data.origTransfer), 'SuccessfullySent'] = 1"
   ],
   "metadata": {
    "collapsed": false,
    "pycharm": {
     "name": "#%%\n"
    }
   }
  },
  {
   "cell_type": "markdown",
   "source": [
    "<H3>Creating a Flag to mark the successfully recieved transacions from the Reciever-End.</H3>"
   ],
   "metadata": {
    "collapsed": false,
    "pycharm": {
     "name": "#%% md\n"
    }
   }
  },
  {
   "cell_type": "code",
   "execution_count": 54,
   "outputs": [],
   "source": [
    "data['CompleteAmtRecieved'] = 1\n",
    "data.loc[ (data.amount!=data.destTransfer),  'CompleteAmtRecieved'] = 0\n",
    "\n",
    "data.loc[data.nameDest.str.contains(\"M\", case=False)\n",
    "         & (data.amount == data.origTransfer), 'CompleteAmtRecieved'] = 1"
   ],
   "metadata": {
    "collapsed": false,
    "pycharm": {
     "name": "#%%\n"
    }
   }
  },
  {
   "cell_type": "markdown",
   "source": [
    "<H3>Generating a display for manual check of the Transfers.</H3>"
   ],
   "metadata": {
    "collapsed": false,
    "pycharm": {
     "name": "#%% md\n"
    }
   }
  },
  {
   "cell_type": "code",
   "execution_count": 55,
   "outputs": [
    {
     "data": {
      "text/plain": "            amount  origTransfer  destTransfer     nameDest  CompleteTransfer  \\\n0          9839.64       9839.64          0.00  M1979787155                 0   \n1          1864.28       1864.28          0.00  M2044282225                 0   \n2           181.00        181.00          0.00   C553264065                 0   \n3           181.00        181.00      21182.00    C38997010                 0   \n4         11668.14      11668.14          0.00  M1230701703                 1   \n...            ...           ...           ...          ...               ...   \n1048570  132557.35     132557.35     132557.35   C435674507                 0   \n1048571    9917.36       9917.36          0.00   M668364942                 1   \n1048572   14140.05      14140.05          0.00  M1355182933                 1   \n1048573   10020.05      10020.05          0.00  M1964992463                 0   \n1048574   11450.03      11450.03          0.00   M677577406                 0   \n\n         SuccessfullySent  CompleteAmtRecieved  \n0                       0                    0  \n1                       0                    0  \n2                       1                    0  \n3                       1                    0  \n4                       1                    1  \n...                   ...                  ...  \n1048570                 0                    0  \n1048571                 1                    1  \n1048572                 1                    1  \n1048573                 0                    0  \n1048574                 0                    0  \n\n[1048575 rows x 7 columns]",
      "text/html": "<div>\n<style scoped>\n    .dataframe tbody tr th:only-of-type {\n        vertical-align: middle;\n    }\n\n    .dataframe tbody tr th {\n        vertical-align: top;\n    }\n\n    .dataframe thead th {\n        text-align: right;\n    }\n</style>\n<table border=\"1\" class=\"dataframe\">\n  <thead>\n    <tr style=\"text-align: right;\">\n      <th></th>\n      <th>amount</th>\n      <th>origTransfer</th>\n      <th>destTransfer</th>\n      <th>nameDest</th>\n      <th>CompleteTransfer</th>\n      <th>SuccessfullySent</th>\n      <th>CompleteAmtRecieved</th>\n    </tr>\n  </thead>\n  <tbody>\n    <tr>\n      <th>0</th>\n      <td>9839.64</td>\n      <td>9839.64</td>\n      <td>0.00</td>\n      <td>M1979787155</td>\n      <td>0</td>\n      <td>0</td>\n      <td>0</td>\n    </tr>\n    <tr>\n      <th>1</th>\n      <td>1864.28</td>\n      <td>1864.28</td>\n      <td>0.00</td>\n      <td>M2044282225</td>\n      <td>0</td>\n      <td>0</td>\n      <td>0</td>\n    </tr>\n    <tr>\n      <th>2</th>\n      <td>181.00</td>\n      <td>181.00</td>\n      <td>0.00</td>\n      <td>C553264065</td>\n      <td>0</td>\n      <td>1</td>\n      <td>0</td>\n    </tr>\n    <tr>\n      <th>3</th>\n      <td>181.00</td>\n      <td>181.00</td>\n      <td>21182.00</td>\n      <td>C38997010</td>\n      <td>0</td>\n      <td>1</td>\n      <td>0</td>\n    </tr>\n    <tr>\n      <th>4</th>\n      <td>11668.14</td>\n      <td>11668.14</td>\n      <td>0.00</td>\n      <td>M1230701703</td>\n      <td>1</td>\n      <td>1</td>\n      <td>1</td>\n    </tr>\n    <tr>\n      <th>...</th>\n      <td>...</td>\n      <td>...</td>\n      <td>...</td>\n      <td>...</td>\n      <td>...</td>\n      <td>...</td>\n      <td>...</td>\n    </tr>\n    <tr>\n      <th>1048570</th>\n      <td>132557.35</td>\n      <td>132557.35</td>\n      <td>132557.35</td>\n      <td>C435674507</td>\n      <td>0</td>\n      <td>0</td>\n      <td>0</td>\n    </tr>\n    <tr>\n      <th>1048571</th>\n      <td>9917.36</td>\n      <td>9917.36</td>\n      <td>0.00</td>\n      <td>M668364942</td>\n      <td>1</td>\n      <td>1</td>\n      <td>1</td>\n    </tr>\n    <tr>\n      <th>1048572</th>\n      <td>14140.05</td>\n      <td>14140.05</td>\n      <td>0.00</td>\n      <td>M1355182933</td>\n      <td>1</td>\n      <td>1</td>\n      <td>1</td>\n    </tr>\n    <tr>\n      <th>1048573</th>\n      <td>10020.05</td>\n      <td>10020.05</td>\n      <td>0.00</td>\n      <td>M1964992463</td>\n      <td>0</td>\n      <td>0</td>\n      <td>0</td>\n    </tr>\n    <tr>\n      <th>1048574</th>\n      <td>11450.03</td>\n      <td>11450.03</td>\n      <td>0.00</td>\n      <td>M677577406</td>\n      <td>0</td>\n      <td>0</td>\n      <td>0</td>\n    </tr>\n  </tbody>\n</table>\n<p>1048575 rows × 7 columns</p>\n</div>"
     },
     "execution_count": 55,
     "metadata": {},
     "output_type": "execute_result"
    }
   ],
   "source": [
    "data[['amount','origTransfer','destTransfer','nameDest','CompleteTransfer','SuccessfullySent','CompleteAmtRecieved']]"
   ],
   "metadata": {
    "collapsed": false,
    "pycharm": {
     "name": "#%%\n"
    }
   }
  },
  {
   "cell_type": "markdown",
   "source": [
    "<H3>Let us now display the Transactions in different segments: Complete, Incomplete (From either Sender or Reciever End) and Frauds-Faulty Transactions. </H3>"
   ],
   "metadata": {
    "collapsed": false,
    "pycharm": {
     "name": "#%% md\n"
    }
   }
  },
  {
   "cell_type": "markdown",
   "source": [
    "<H3>Creating a Dataset out of the Truely-Completed Transactions."
   ],
   "metadata": {
    "collapsed": false,
    "pycharm": {
     "name": "#%% md\n"
    }
   }
  },
  {
   "cell_type": "code",
   "execution_count": 56,
   "outputs": [
    {
     "data": {
      "text/plain": "(59997, 16)"
     },
     "execution_count": 56,
     "metadata": {},
     "output_type": "execute_result"
    }
   ],
   "source": [
    "true=data.where(data.CompleteTransfer==1)\n",
    "true=true.dropna()\n",
    "true.shape"
   ],
   "metadata": {
    "collapsed": false,
    "pycharm": {
     "name": "#%%\n"
    }
   }
  },
  {
   "cell_type": "code",
   "execution_count": 57,
   "outputs": [
    {
     "data": {
      "text/plain": "        step      type    amount     nameOrig  oldbalanceOrg  newbalanceOrig  \\\n636270  35.0   CASH_IN  70615.12   C593965762       19823.00        90438.12   \n808192  40.0   PAYMENT  13035.70  C1716877032       20823.00         7787.30   \n735571  38.0   PAYMENT   6383.16  C1192618407       10733.00         4349.84   \n272109  15.0   PAYMENT  16653.60  C1997657608       52885.00        36231.40   \n337203  16.0  CASH_OUT  54423.32  C1465008762       81753.00        27329.68   \n554975  22.0   PAYMENT   3102.91   C264836001        7800.21         4697.30   \n180462  12.0   PAYMENT  20804.14   C609096891       90666.18        69862.04   \n\n           nameDest  oldbalanceDest  newbalanceDest  isFraud  isFlaggedFraud  \\\n636270  C1268626759       113648.42        43033.30      0.0             0.0   \n808192  M1754903166            0.00            0.00      0.0             0.0   \n735571    M51890244            0.00            0.00      0.0             0.0   \n272109  M1862372389            0.00            0.00      0.0             0.0   \n337203   C775886014            0.00        54423.32      0.0             0.0   \n554975   M239365719            0.00            0.00      0.0             0.0   \n180462   M973559827            0.00            0.00      0.0             0.0   \n\n        origTransfer  destTransfer  CompleteTransfer  SuccessfullySent  \\\n636270      70615.12      70615.12               1.0               1.0   \n808192      13035.70          0.00               1.0               1.0   \n735571       6383.16          0.00               1.0               1.0   \n272109      16653.60          0.00               1.0               1.0   \n337203      54423.32      54423.32               1.0               1.0   \n554975       3102.91          0.00               1.0               1.0   \n180462      20804.14          0.00               1.0               1.0   \n\n        CompleteAmtRecieved  \n636270                  1.0  \n808192                  1.0  \n735571                  1.0  \n272109                  1.0  \n337203                  1.0  \n554975                  1.0  \n180462                  1.0  ",
      "text/html": "<div>\n<style scoped>\n    .dataframe tbody tr th:only-of-type {\n        vertical-align: middle;\n    }\n\n    .dataframe tbody tr th {\n        vertical-align: top;\n    }\n\n    .dataframe thead th {\n        text-align: right;\n    }\n</style>\n<table border=\"1\" class=\"dataframe\">\n  <thead>\n    <tr style=\"text-align: right;\">\n      <th></th>\n      <th>step</th>\n      <th>type</th>\n      <th>amount</th>\n      <th>nameOrig</th>\n      <th>oldbalanceOrg</th>\n      <th>newbalanceOrig</th>\n      <th>nameDest</th>\n      <th>oldbalanceDest</th>\n      <th>newbalanceDest</th>\n      <th>isFraud</th>\n      <th>isFlaggedFraud</th>\n      <th>origTransfer</th>\n      <th>destTransfer</th>\n      <th>CompleteTransfer</th>\n      <th>SuccessfullySent</th>\n      <th>CompleteAmtRecieved</th>\n    </tr>\n  </thead>\n  <tbody>\n    <tr>\n      <th>636270</th>\n      <td>35.0</td>\n      <td>CASH_IN</td>\n      <td>70615.12</td>\n      <td>C593965762</td>\n      <td>19823.00</td>\n      <td>90438.12</td>\n      <td>C1268626759</td>\n      <td>113648.42</td>\n      <td>43033.30</td>\n      <td>0.0</td>\n      <td>0.0</td>\n      <td>70615.12</td>\n      <td>70615.12</td>\n      <td>1.0</td>\n      <td>1.0</td>\n      <td>1.0</td>\n    </tr>\n    <tr>\n      <th>808192</th>\n      <td>40.0</td>\n      <td>PAYMENT</td>\n      <td>13035.70</td>\n      <td>C1716877032</td>\n      <td>20823.00</td>\n      <td>7787.30</td>\n      <td>M1754903166</td>\n      <td>0.00</td>\n      <td>0.00</td>\n      <td>0.0</td>\n      <td>0.0</td>\n      <td>13035.70</td>\n      <td>0.00</td>\n      <td>1.0</td>\n      <td>1.0</td>\n      <td>1.0</td>\n    </tr>\n    <tr>\n      <th>735571</th>\n      <td>38.0</td>\n      <td>PAYMENT</td>\n      <td>6383.16</td>\n      <td>C1192618407</td>\n      <td>10733.00</td>\n      <td>4349.84</td>\n      <td>M51890244</td>\n      <td>0.00</td>\n      <td>0.00</td>\n      <td>0.0</td>\n      <td>0.0</td>\n      <td>6383.16</td>\n      <td>0.00</td>\n      <td>1.0</td>\n      <td>1.0</td>\n      <td>1.0</td>\n    </tr>\n    <tr>\n      <th>272109</th>\n      <td>15.0</td>\n      <td>PAYMENT</td>\n      <td>16653.60</td>\n      <td>C1997657608</td>\n      <td>52885.00</td>\n      <td>36231.40</td>\n      <td>M1862372389</td>\n      <td>0.00</td>\n      <td>0.00</td>\n      <td>0.0</td>\n      <td>0.0</td>\n      <td>16653.60</td>\n      <td>0.00</td>\n      <td>1.0</td>\n      <td>1.0</td>\n      <td>1.0</td>\n    </tr>\n    <tr>\n      <th>337203</th>\n      <td>16.0</td>\n      <td>CASH_OUT</td>\n      <td>54423.32</td>\n      <td>C1465008762</td>\n      <td>81753.00</td>\n      <td>27329.68</td>\n      <td>C775886014</td>\n      <td>0.00</td>\n      <td>54423.32</td>\n      <td>0.0</td>\n      <td>0.0</td>\n      <td>54423.32</td>\n      <td>54423.32</td>\n      <td>1.0</td>\n      <td>1.0</td>\n      <td>1.0</td>\n    </tr>\n    <tr>\n      <th>554975</th>\n      <td>22.0</td>\n      <td>PAYMENT</td>\n      <td>3102.91</td>\n      <td>C264836001</td>\n      <td>7800.21</td>\n      <td>4697.30</td>\n      <td>M239365719</td>\n      <td>0.00</td>\n      <td>0.00</td>\n      <td>0.0</td>\n      <td>0.0</td>\n      <td>3102.91</td>\n      <td>0.00</td>\n      <td>1.0</td>\n      <td>1.0</td>\n      <td>1.0</td>\n    </tr>\n    <tr>\n      <th>180462</th>\n      <td>12.0</td>\n      <td>PAYMENT</td>\n      <td>20804.14</td>\n      <td>C609096891</td>\n      <td>90666.18</td>\n      <td>69862.04</td>\n      <td>M973559827</td>\n      <td>0.00</td>\n      <td>0.00</td>\n      <td>0.0</td>\n      <td>0.0</td>\n      <td>20804.14</td>\n      <td>0.00</td>\n      <td>1.0</td>\n      <td>1.0</td>\n      <td>1.0</td>\n    </tr>\n  </tbody>\n</table>\n</div>"
     },
     "execution_count": 57,
     "metadata": {},
     "output_type": "execute_result"
    }
   ],
   "source": [
    "true.sample(7)"
   ],
   "metadata": {
    "collapsed": false,
    "pycharm": {
     "name": "#%%\n"
    }
   }
  },
  {
   "cell_type": "markdown",
   "source": [
    "<H3>Creating a Dataset out of the Successfully Sent Transactions."
   ],
   "metadata": {
    "collapsed": false,
    "pycharm": {
     "name": "#%% md\n"
    }
   }
  },
  {
   "cell_type": "code",
   "execution_count": 58,
   "outputs": [
    {
     "data": {
      "text/plain": "(146470, 16)"
     },
     "execution_count": 58,
     "metadata": {},
     "output_type": "execute_result"
    }
   ],
   "source": [
    "sentSuccess=data.where(data.SuccessfullySent==1)\n",
    "sentSuccess=sentSuccess.dropna()\n",
    "sentSuccess.shape"
   ],
   "metadata": {
    "collapsed": false,
    "pycharm": {
     "name": "#%%\n"
    }
   }
  },
  {
   "cell_type": "code",
   "execution_count": 59,
   "outputs": [
    {
     "data": {
      "text/plain": "        step      type     amount     nameOrig  oldbalanceOrg  newbalanceOrig  \\\n949841  44.0  CASH_OUT   91855.65  C1785986997       99774.00         7918.35   \n480387  19.0   CASH_IN   99702.07     C1632759       10453.00       110155.07   \n785782  39.0   PAYMENT    8163.50   C931695434      704939.99       696776.49   \n828573  41.0   CASH_IN   25568.64  C1568435799          47.00        25615.64   \n572376  24.0   PAYMENT    5346.32  C1061208664       31488.00        26141.68   \n881042  42.0   CASH_IN  299351.41  C2122500202         237.00       299588.41   \n893572  42.0   CASH_IN  103427.06   C870065294          16.00       103443.06   \n\n           nameDest  oldbalanceDest  newbalanceDest  isFraud  isFlaggedFraud  \\\n949841  C1254117524            0.00        91855.65      0.0             0.0   \n480387   C143580560      3178894.68      3388644.81      0.0             0.0   \n785782  M2036931274            0.00            0.00      0.0             0.0   \n828573  C1359266146            0.00            0.00      0.0             0.0   \n572376  M1953279547            0.00            0.00      0.0             0.0   \n881042   C115819180       278711.92            0.00      0.0             1.0   \n893572   C756112680            0.00            0.00      0.0             0.0   \n\n        origTransfer  destTransfer  CompleteTransfer  SuccessfullySent  \\\n949841      91855.65      91855.65               1.0               1.0   \n480387      99702.07     209750.13               0.0               1.0   \n785782       8163.50          0.00               1.0               1.0   \n828573      25568.64          0.00               0.0               1.0   \n572376       5346.32          0.00               1.0               1.0   \n881042     299351.41     278711.92               0.0               1.0   \n893572     103427.06          0.00               0.0               1.0   \n\n        CompleteAmtRecieved  \n949841                  1.0  \n480387                  0.0  \n785782                  1.0  \n828573                  0.0  \n572376                  1.0  \n881042                  0.0  \n893572                  0.0  ",
      "text/html": "<div>\n<style scoped>\n    .dataframe tbody tr th:only-of-type {\n        vertical-align: middle;\n    }\n\n    .dataframe tbody tr th {\n        vertical-align: top;\n    }\n\n    .dataframe thead th {\n        text-align: right;\n    }\n</style>\n<table border=\"1\" class=\"dataframe\">\n  <thead>\n    <tr style=\"text-align: right;\">\n      <th></th>\n      <th>step</th>\n      <th>type</th>\n      <th>amount</th>\n      <th>nameOrig</th>\n      <th>oldbalanceOrg</th>\n      <th>newbalanceOrig</th>\n      <th>nameDest</th>\n      <th>oldbalanceDest</th>\n      <th>newbalanceDest</th>\n      <th>isFraud</th>\n      <th>isFlaggedFraud</th>\n      <th>origTransfer</th>\n      <th>destTransfer</th>\n      <th>CompleteTransfer</th>\n      <th>SuccessfullySent</th>\n      <th>CompleteAmtRecieved</th>\n    </tr>\n  </thead>\n  <tbody>\n    <tr>\n      <th>949841</th>\n      <td>44.0</td>\n      <td>CASH_OUT</td>\n      <td>91855.65</td>\n      <td>C1785986997</td>\n      <td>99774.00</td>\n      <td>7918.35</td>\n      <td>C1254117524</td>\n      <td>0.00</td>\n      <td>91855.65</td>\n      <td>0.0</td>\n      <td>0.0</td>\n      <td>91855.65</td>\n      <td>91855.65</td>\n      <td>1.0</td>\n      <td>1.0</td>\n      <td>1.0</td>\n    </tr>\n    <tr>\n      <th>480387</th>\n      <td>19.0</td>\n      <td>CASH_IN</td>\n      <td>99702.07</td>\n      <td>C1632759</td>\n      <td>10453.00</td>\n      <td>110155.07</td>\n      <td>C143580560</td>\n      <td>3178894.68</td>\n      <td>3388644.81</td>\n      <td>0.0</td>\n      <td>0.0</td>\n      <td>99702.07</td>\n      <td>209750.13</td>\n      <td>0.0</td>\n      <td>1.0</td>\n      <td>0.0</td>\n    </tr>\n    <tr>\n      <th>785782</th>\n      <td>39.0</td>\n      <td>PAYMENT</td>\n      <td>8163.50</td>\n      <td>C931695434</td>\n      <td>704939.99</td>\n      <td>696776.49</td>\n      <td>M2036931274</td>\n      <td>0.00</td>\n      <td>0.00</td>\n      <td>0.0</td>\n      <td>0.0</td>\n      <td>8163.50</td>\n      <td>0.00</td>\n      <td>1.0</td>\n      <td>1.0</td>\n      <td>1.0</td>\n    </tr>\n    <tr>\n      <th>828573</th>\n      <td>41.0</td>\n      <td>CASH_IN</td>\n      <td>25568.64</td>\n      <td>C1568435799</td>\n      <td>47.00</td>\n      <td>25615.64</td>\n      <td>C1359266146</td>\n      <td>0.00</td>\n      <td>0.00</td>\n      <td>0.0</td>\n      <td>0.0</td>\n      <td>25568.64</td>\n      <td>0.00</td>\n      <td>0.0</td>\n      <td>1.0</td>\n      <td>0.0</td>\n    </tr>\n    <tr>\n      <th>572376</th>\n      <td>24.0</td>\n      <td>PAYMENT</td>\n      <td>5346.32</td>\n      <td>C1061208664</td>\n      <td>31488.00</td>\n      <td>26141.68</td>\n      <td>M1953279547</td>\n      <td>0.00</td>\n      <td>0.00</td>\n      <td>0.0</td>\n      <td>0.0</td>\n      <td>5346.32</td>\n      <td>0.00</td>\n      <td>1.0</td>\n      <td>1.0</td>\n      <td>1.0</td>\n    </tr>\n    <tr>\n      <th>881042</th>\n      <td>42.0</td>\n      <td>CASH_IN</td>\n      <td>299351.41</td>\n      <td>C2122500202</td>\n      <td>237.00</td>\n      <td>299588.41</td>\n      <td>C115819180</td>\n      <td>278711.92</td>\n      <td>0.00</td>\n      <td>0.0</td>\n      <td>1.0</td>\n      <td>299351.41</td>\n      <td>278711.92</td>\n      <td>0.0</td>\n      <td>1.0</td>\n      <td>0.0</td>\n    </tr>\n    <tr>\n      <th>893572</th>\n      <td>42.0</td>\n      <td>CASH_IN</td>\n      <td>103427.06</td>\n      <td>C870065294</td>\n      <td>16.00</td>\n      <td>103443.06</td>\n      <td>C756112680</td>\n      <td>0.00</td>\n      <td>0.00</td>\n      <td>0.0</td>\n      <td>0.0</td>\n      <td>103427.06</td>\n      <td>0.00</td>\n      <td>0.0</td>\n      <td>1.0</td>\n      <td>0.0</td>\n    </tr>\n  </tbody>\n</table>\n</div>"
     },
     "execution_count": 59,
     "metadata": {},
     "output_type": "execute_result"
    }
   ],
   "source": [
    "sentSuccess.sample(7)"
   ],
   "metadata": {
    "collapsed": false,
    "pycharm": {
     "name": "#%%\n"
    }
   }
  },
  {
   "cell_type": "markdown",
   "source": [
    "<H3>Creating a Dataset out of the Successfully Recieved Transactions."
   ],
   "metadata": {
    "collapsed": false,
    "pycharm": {
     "name": "#%% md\n"
    }
   }
  },
  {
   "cell_type": "code",
   "execution_count": 60,
   "outputs": [
    {
     "data": {
      "text/plain": "(164610, 16)"
     },
     "execution_count": 60,
     "metadata": {},
     "output_type": "execute_result"
    }
   ],
   "source": [
    "recieveSuccess = data.where(data.CompleteAmtRecieved == 1)\n",
    "recieveSuccess = recieveSuccess.dropna()\n",
    "recieveSuccess.shape"
   ],
   "metadata": {
    "collapsed": false,
    "pycharm": {
     "name": "#%%\n"
    }
   }
  },
  {
   "cell_type": "code",
   "execution_count": 61,
   "outputs": [
    {
     "data": {
      "text/plain": "        step      type     amount     nameOrig  oldbalanceOrg  newbalanceOrig  \\\n220613  14.0  CASH_OUT   59649.16   C781321191           0.00            0.00   \n162155  12.0   PAYMENT   22138.95   C876217766       23064.66          925.71   \n191688  13.0  CASH_OUT   52414.56  C1294116918           0.00            0.00   \n225708  14.0  CASH_OUT  336645.26   C744690984           0.00            0.00   \n578780  33.0  CASH_OUT  443230.01   C251667228          10.00            0.00   \n196345  13.0  CASH_OUT   67234.50   C980190779           0.00            0.00   \n840049  41.0  TRANSFER  908464.94  C1249817221        4945.00            0.00   \n\n           nameDest  oldbalanceDest  newbalanceDest  isFraud  isFlaggedFraud  \\\n220613   C749425091       186452.82       246101.98      0.0             0.0   \n162155  M1585806333            0.00            0.00      0.0             0.0   \n191688   C829366434       111909.40       164323.96      0.0             0.0   \n225708   C554025243       634632.21       971277.47      0.0             1.0   \n578780   C732274188       207934.34       651164.35      0.0             1.0   \n196345  C1761741722      5425393.34      5492627.84      0.0             0.0   \n840049   C618781962            0.00       908464.94      0.0             1.0   \n\n        origTransfer  destTransfer  CompleteTransfer  SuccessfullySent  \\\n220613          0.00      59649.16               0.0               0.0   \n162155      22138.95          0.00               1.0               1.0   \n191688          0.00      52414.56               0.0               0.0   \n225708          0.00     336645.26               0.0               0.0   \n578780         10.00     443230.01               0.0               0.0   \n196345          0.00      67234.50               0.0               0.0   \n840049       4945.00     908464.94               0.0               0.0   \n\n        CompleteAmtRecieved  \n220613                  1.0  \n162155                  1.0  \n191688                  1.0  \n225708                  1.0  \n578780                  1.0  \n196345                  1.0  \n840049                  1.0  ",
      "text/html": "<div>\n<style scoped>\n    .dataframe tbody tr th:only-of-type {\n        vertical-align: middle;\n    }\n\n    .dataframe tbody tr th {\n        vertical-align: top;\n    }\n\n    .dataframe thead th {\n        text-align: right;\n    }\n</style>\n<table border=\"1\" class=\"dataframe\">\n  <thead>\n    <tr style=\"text-align: right;\">\n      <th></th>\n      <th>step</th>\n      <th>type</th>\n      <th>amount</th>\n      <th>nameOrig</th>\n      <th>oldbalanceOrg</th>\n      <th>newbalanceOrig</th>\n      <th>nameDest</th>\n      <th>oldbalanceDest</th>\n      <th>newbalanceDest</th>\n      <th>isFraud</th>\n      <th>isFlaggedFraud</th>\n      <th>origTransfer</th>\n      <th>destTransfer</th>\n      <th>CompleteTransfer</th>\n      <th>SuccessfullySent</th>\n      <th>CompleteAmtRecieved</th>\n    </tr>\n  </thead>\n  <tbody>\n    <tr>\n      <th>220613</th>\n      <td>14.0</td>\n      <td>CASH_OUT</td>\n      <td>59649.16</td>\n      <td>C781321191</td>\n      <td>0.00</td>\n      <td>0.00</td>\n      <td>C749425091</td>\n      <td>186452.82</td>\n      <td>246101.98</td>\n      <td>0.0</td>\n      <td>0.0</td>\n      <td>0.00</td>\n      <td>59649.16</td>\n      <td>0.0</td>\n      <td>0.0</td>\n      <td>1.0</td>\n    </tr>\n    <tr>\n      <th>162155</th>\n      <td>12.0</td>\n      <td>PAYMENT</td>\n      <td>22138.95</td>\n      <td>C876217766</td>\n      <td>23064.66</td>\n      <td>925.71</td>\n      <td>M1585806333</td>\n      <td>0.00</td>\n      <td>0.00</td>\n      <td>0.0</td>\n      <td>0.0</td>\n      <td>22138.95</td>\n      <td>0.00</td>\n      <td>1.0</td>\n      <td>1.0</td>\n      <td>1.0</td>\n    </tr>\n    <tr>\n      <th>191688</th>\n      <td>13.0</td>\n      <td>CASH_OUT</td>\n      <td>52414.56</td>\n      <td>C1294116918</td>\n      <td>0.00</td>\n      <td>0.00</td>\n      <td>C829366434</td>\n      <td>111909.40</td>\n      <td>164323.96</td>\n      <td>0.0</td>\n      <td>0.0</td>\n      <td>0.00</td>\n      <td>52414.56</td>\n      <td>0.0</td>\n      <td>0.0</td>\n      <td>1.0</td>\n    </tr>\n    <tr>\n      <th>225708</th>\n      <td>14.0</td>\n      <td>CASH_OUT</td>\n      <td>336645.26</td>\n      <td>C744690984</td>\n      <td>0.00</td>\n      <td>0.00</td>\n      <td>C554025243</td>\n      <td>634632.21</td>\n      <td>971277.47</td>\n      <td>0.0</td>\n      <td>1.0</td>\n      <td>0.00</td>\n      <td>336645.26</td>\n      <td>0.0</td>\n      <td>0.0</td>\n      <td>1.0</td>\n    </tr>\n    <tr>\n      <th>578780</th>\n      <td>33.0</td>\n      <td>CASH_OUT</td>\n      <td>443230.01</td>\n      <td>C251667228</td>\n      <td>10.00</td>\n      <td>0.00</td>\n      <td>C732274188</td>\n      <td>207934.34</td>\n      <td>651164.35</td>\n      <td>0.0</td>\n      <td>1.0</td>\n      <td>10.00</td>\n      <td>443230.01</td>\n      <td>0.0</td>\n      <td>0.0</td>\n      <td>1.0</td>\n    </tr>\n    <tr>\n      <th>196345</th>\n      <td>13.0</td>\n      <td>CASH_OUT</td>\n      <td>67234.50</td>\n      <td>C980190779</td>\n      <td>0.00</td>\n      <td>0.00</td>\n      <td>C1761741722</td>\n      <td>5425393.34</td>\n      <td>5492627.84</td>\n      <td>0.0</td>\n      <td>0.0</td>\n      <td>0.00</td>\n      <td>67234.50</td>\n      <td>0.0</td>\n      <td>0.0</td>\n      <td>1.0</td>\n    </tr>\n    <tr>\n      <th>840049</th>\n      <td>41.0</td>\n      <td>TRANSFER</td>\n      <td>908464.94</td>\n      <td>C1249817221</td>\n      <td>4945.00</td>\n      <td>0.00</td>\n      <td>C618781962</td>\n      <td>0.00</td>\n      <td>908464.94</td>\n      <td>0.0</td>\n      <td>1.0</td>\n      <td>4945.00</td>\n      <td>908464.94</td>\n      <td>0.0</td>\n      <td>0.0</td>\n      <td>1.0</td>\n    </tr>\n  </tbody>\n</table>\n</div>"
     },
     "execution_count": 61,
     "metadata": {},
     "output_type": "execute_result"
    }
   ],
   "source": [
    "recieveSuccess.sample(7)"
   ],
   "metadata": {
    "collapsed": false,
    "pycharm": {
     "name": "#%%\n"
    }
   }
  },
  {
   "cell_type": "markdown",
   "source": [
    "<H3>Creating a Dataset out of all other Transactions including Outliers, incomplete or faulty Transactions."
   ],
   "metadata": {
    "collapsed": false,
    "pycharm": {
     "name": "#%% md\n"
    }
   }
  },
  {
   "cell_type": "code",
   "execution_count": 62,
   "outputs": [
    {
     "data": {
      "text/plain": "(797492, 16)"
     },
     "execution_count": 62,
     "metadata": {},
     "output_type": "execute_result"
    }
   ],
   "source": [
    "faultyTransfer=data.where((data.CompleteTransfer == 0) & (data.CompleteAmtRecieved == 0) & (data.SuccessfullySent==0))\n",
    "faultyTransfer=faultyTransfer.dropna()\n",
    "faultyTransfer.shape"
   ],
   "metadata": {
    "collapsed": false,
    "pycharm": {
     "name": "#%%\n"
    }
   }
  },
  {
   "cell_type": "code",
   "execution_count": 63,
   "outputs": [
    {
     "data": {
      "text/plain": "         step      type     amount     nameOrig  oldbalanceOrg  \\\n93043    10.0  CASH_OUT  616512.93   C418371371         136.00   \n1033716  93.0  TRANSFER  149933.70  C1323147864           0.00   \n916454   43.0   PAYMENT    3882.60   C163306614       37672.07   \n415191   18.0  CASH_OUT  239293.31  C1206900740           0.00   \n299115   15.0   PAYMENT   10887.95  C1950692587       51790.00   \n54866     9.0   PAYMENT    1239.85  C2037283903           0.00   \n498846   20.0  CASH_OUT  167459.50  C1093761459           0.00   \n705986   37.0   PAYMENT    3887.06   C560441467      117976.54   \n693469   36.0  CASH_OUT  142793.44   C571466447           0.00   \n138876   11.0  TRANSFER  714452.90  C1990797183           0.00   \n524599   20.0  CASH_OUT  483104.19   C513625816           0.00   \n728504   37.0  CASH_OUT   70114.45  C2029853020       51946.00   \n168258   12.0   CASH_IN    3189.40   C683751301       16485.00   \n1039791  94.0   PAYMENT     805.52  C1587986174       37415.06   \n100088   10.0  CASH_OUT   73997.79   C107163329           0.00   \n353200   17.0  CASH_OUT  176421.31  C1815279964       29911.00   \n\n         newbalanceOrig     nameDest  oldbalanceDest  newbalanceDest  isFraud  \\\n93043              0.00  C1176045015        48847.43      1273014.89      0.0   \n1033716            0.00  C1687224917      3991368.34      4141302.04      0.0   \n916454         33789.47   M464478300            0.00            0.00      0.0   \n415191             0.00  C1268199626       457079.65       696372.96      0.0   \n299115         40902.05  M2092660756            0.00            0.00      0.0   \n54866              0.00   M441076603            0.00            0.00      0.0   \n498846             0.00   C459184199       880144.69      1049432.86      0.0   \n705986        114089.48  M1149354601            0.00            0.00      0.0   \n693469             0.00  C1629709129      4472803.10      4615596.55      0.0   \n138876             0.00  C1446521801     18800000.00     19900000.00      0.0   \n524599             0.00   C618155294       622600.51      1105704.70      0.0   \n728504             0.00    C60614848            0.00        25054.68      0.0   \n168258         19674.40     C8221127        19086.60            0.00      0.0   \n1039791        36609.54  M2066818918            0.00            0.00      0.0   \n100088             0.00  C1539907170       783004.27       764370.72      0.0   \n353200             0.00   C142246322       389324.49       565745.80      0.0   \n\n         isFlaggedFraud  origTransfer  destTransfer  CompleteTransfer  \\\n93043               1.0        136.00    1224167.46               0.0   \n1033716             0.0          0.00     149933.70               0.0   \n916454              0.0       3882.60          0.00               0.0   \n415191              1.0          0.00     239293.31               0.0   \n299115              0.0      10887.95          0.00               0.0   \n54866               0.0          0.00          0.00               0.0   \n498846              0.0          0.00     169288.17               0.0   \n705986              0.0       3887.06          0.00               0.0   \n693469              0.0          0.00     142793.45               0.0   \n138876              1.0          0.00    1100000.00               0.0   \n524599              1.0          0.00     483104.19               0.0   \n728504              0.0      51946.00      25054.68               0.0   \n168258              0.0       3189.40      19086.60               0.0   \n1039791             0.0        805.52          0.00               0.0   \n100088              0.0          0.00      18633.55               0.0   \n353200              0.0      29911.00     176421.31               0.0   \n\n         SuccessfullySent  CompleteAmtRecieved  \n93043                 0.0                  0.0  \n1033716               0.0                  0.0  \n916454                0.0                  0.0  \n415191                0.0                  0.0  \n299115                0.0                  0.0  \n54866                 0.0                  0.0  \n498846                0.0                  0.0  \n705986                0.0                  0.0  \n693469                0.0                  0.0  \n138876                0.0                  0.0  \n524599                0.0                  0.0  \n728504                0.0                  0.0  \n168258                0.0                  0.0  \n1039791               0.0                  0.0  \n100088                0.0                  0.0  \n353200                0.0                  0.0  ",
      "text/html": "<div>\n<style scoped>\n    .dataframe tbody tr th:only-of-type {\n        vertical-align: middle;\n    }\n\n    .dataframe tbody tr th {\n        vertical-align: top;\n    }\n\n    .dataframe thead th {\n        text-align: right;\n    }\n</style>\n<table border=\"1\" class=\"dataframe\">\n  <thead>\n    <tr style=\"text-align: right;\">\n      <th></th>\n      <th>step</th>\n      <th>type</th>\n      <th>amount</th>\n      <th>nameOrig</th>\n      <th>oldbalanceOrg</th>\n      <th>newbalanceOrig</th>\n      <th>nameDest</th>\n      <th>oldbalanceDest</th>\n      <th>newbalanceDest</th>\n      <th>isFraud</th>\n      <th>isFlaggedFraud</th>\n      <th>origTransfer</th>\n      <th>destTransfer</th>\n      <th>CompleteTransfer</th>\n      <th>SuccessfullySent</th>\n      <th>CompleteAmtRecieved</th>\n    </tr>\n  </thead>\n  <tbody>\n    <tr>\n      <th>93043</th>\n      <td>10.0</td>\n      <td>CASH_OUT</td>\n      <td>616512.93</td>\n      <td>C418371371</td>\n      <td>136.00</td>\n      <td>0.00</td>\n      <td>C1176045015</td>\n      <td>48847.43</td>\n      <td>1273014.89</td>\n      <td>0.0</td>\n      <td>1.0</td>\n      <td>136.00</td>\n      <td>1224167.46</td>\n      <td>0.0</td>\n      <td>0.0</td>\n      <td>0.0</td>\n    </tr>\n    <tr>\n      <th>1033716</th>\n      <td>93.0</td>\n      <td>TRANSFER</td>\n      <td>149933.70</td>\n      <td>C1323147864</td>\n      <td>0.00</td>\n      <td>0.00</td>\n      <td>C1687224917</td>\n      <td>3991368.34</td>\n      <td>4141302.04</td>\n      <td>0.0</td>\n      <td>0.0</td>\n      <td>0.00</td>\n      <td>149933.70</td>\n      <td>0.0</td>\n      <td>0.0</td>\n      <td>0.0</td>\n    </tr>\n    <tr>\n      <th>916454</th>\n      <td>43.0</td>\n      <td>PAYMENT</td>\n      <td>3882.60</td>\n      <td>C163306614</td>\n      <td>37672.07</td>\n      <td>33789.47</td>\n      <td>M464478300</td>\n      <td>0.00</td>\n      <td>0.00</td>\n      <td>0.0</td>\n      <td>0.0</td>\n      <td>3882.60</td>\n      <td>0.00</td>\n      <td>0.0</td>\n      <td>0.0</td>\n      <td>0.0</td>\n    </tr>\n    <tr>\n      <th>415191</th>\n      <td>18.0</td>\n      <td>CASH_OUT</td>\n      <td>239293.31</td>\n      <td>C1206900740</td>\n      <td>0.00</td>\n      <td>0.00</td>\n      <td>C1268199626</td>\n      <td>457079.65</td>\n      <td>696372.96</td>\n      <td>0.0</td>\n      <td>1.0</td>\n      <td>0.00</td>\n      <td>239293.31</td>\n      <td>0.0</td>\n      <td>0.0</td>\n      <td>0.0</td>\n    </tr>\n    <tr>\n      <th>299115</th>\n      <td>15.0</td>\n      <td>PAYMENT</td>\n      <td>10887.95</td>\n      <td>C1950692587</td>\n      <td>51790.00</td>\n      <td>40902.05</td>\n      <td>M2092660756</td>\n      <td>0.00</td>\n      <td>0.00</td>\n      <td>0.0</td>\n      <td>0.0</td>\n      <td>10887.95</td>\n      <td>0.00</td>\n      <td>0.0</td>\n      <td>0.0</td>\n      <td>0.0</td>\n    </tr>\n    <tr>\n      <th>54866</th>\n      <td>9.0</td>\n      <td>PAYMENT</td>\n      <td>1239.85</td>\n      <td>C2037283903</td>\n      <td>0.00</td>\n      <td>0.00</td>\n      <td>M441076603</td>\n      <td>0.00</td>\n      <td>0.00</td>\n      <td>0.0</td>\n      <td>0.0</td>\n      <td>0.00</td>\n      <td>0.00</td>\n      <td>0.0</td>\n      <td>0.0</td>\n      <td>0.0</td>\n    </tr>\n    <tr>\n      <th>498846</th>\n      <td>20.0</td>\n      <td>CASH_OUT</td>\n      <td>167459.50</td>\n      <td>C1093761459</td>\n      <td>0.00</td>\n      <td>0.00</td>\n      <td>C459184199</td>\n      <td>880144.69</td>\n      <td>1049432.86</td>\n      <td>0.0</td>\n      <td>0.0</td>\n      <td>0.00</td>\n      <td>169288.17</td>\n      <td>0.0</td>\n      <td>0.0</td>\n      <td>0.0</td>\n    </tr>\n    <tr>\n      <th>705986</th>\n      <td>37.0</td>\n      <td>PAYMENT</td>\n      <td>3887.06</td>\n      <td>C560441467</td>\n      <td>117976.54</td>\n      <td>114089.48</td>\n      <td>M1149354601</td>\n      <td>0.00</td>\n      <td>0.00</td>\n      <td>0.0</td>\n      <td>0.0</td>\n      <td>3887.06</td>\n      <td>0.00</td>\n      <td>0.0</td>\n      <td>0.0</td>\n      <td>0.0</td>\n    </tr>\n    <tr>\n      <th>693469</th>\n      <td>36.0</td>\n      <td>CASH_OUT</td>\n      <td>142793.44</td>\n      <td>C571466447</td>\n      <td>0.00</td>\n      <td>0.00</td>\n      <td>C1629709129</td>\n      <td>4472803.10</td>\n      <td>4615596.55</td>\n      <td>0.0</td>\n      <td>0.0</td>\n      <td>0.00</td>\n      <td>142793.45</td>\n      <td>0.0</td>\n      <td>0.0</td>\n      <td>0.0</td>\n    </tr>\n    <tr>\n      <th>138876</th>\n      <td>11.0</td>\n      <td>TRANSFER</td>\n      <td>714452.90</td>\n      <td>C1990797183</td>\n      <td>0.00</td>\n      <td>0.00</td>\n      <td>C1446521801</td>\n      <td>18800000.00</td>\n      <td>19900000.00</td>\n      <td>0.0</td>\n      <td>1.0</td>\n      <td>0.00</td>\n      <td>1100000.00</td>\n      <td>0.0</td>\n      <td>0.0</td>\n      <td>0.0</td>\n    </tr>\n    <tr>\n      <th>524599</th>\n      <td>20.0</td>\n      <td>CASH_OUT</td>\n      <td>483104.19</td>\n      <td>C513625816</td>\n      <td>0.00</td>\n      <td>0.00</td>\n      <td>C618155294</td>\n      <td>622600.51</td>\n      <td>1105704.70</td>\n      <td>0.0</td>\n      <td>1.0</td>\n      <td>0.00</td>\n      <td>483104.19</td>\n      <td>0.0</td>\n      <td>0.0</td>\n      <td>0.0</td>\n    </tr>\n    <tr>\n      <th>728504</th>\n      <td>37.0</td>\n      <td>CASH_OUT</td>\n      <td>70114.45</td>\n      <td>C2029853020</td>\n      <td>51946.00</td>\n      <td>0.00</td>\n      <td>C60614848</td>\n      <td>0.00</td>\n      <td>25054.68</td>\n      <td>0.0</td>\n      <td>0.0</td>\n      <td>51946.00</td>\n      <td>25054.68</td>\n      <td>0.0</td>\n      <td>0.0</td>\n      <td>0.0</td>\n    </tr>\n    <tr>\n      <th>168258</th>\n      <td>12.0</td>\n      <td>CASH_IN</td>\n      <td>3189.40</td>\n      <td>C683751301</td>\n      <td>16485.00</td>\n      <td>19674.40</td>\n      <td>C8221127</td>\n      <td>19086.60</td>\n      <td>0.00</td>\n      <td>0.0</td>\n      <td>0.0</td>\n      <td>3189.40</td>\n      <td>19086.60</td>\n      <td>0.0</td>\n      <td>0.0</td>\n      <td>0.0</td>\n    </tr>\n    <tr>\n      <th>1039791</th>\n      <td>94.0</td>\n      <td>PAYMENT</td>\n      <td>805.52</td>\n      <td>C1587986174</td>\n      <td>37415.06</td>\n      <td>36609.54</td>\n      <td>M2066818918</td>\n      <td>0.00</td>\n      <td>0.00</td>\n      <td>0.0</td>\n      <td>0.0</td>\n      <td>805.52</td>\n      <td>0.00</td>\n      <td>0.0</td>\n      <td>0.0</td>\n      <td>0.0</td>\n    </tr>\n    <tr>\n      <th>100088</th>\n      <td>10.0</td>\n      <td>CASH_OUT</td>\n      <td>73997.79</td>\n      <td>C107163329</td>\n      <td>0.00</td>\n      <td>0.00</td>\n      <td>C1539907170</td>\n      <td>783004.27</td>\n      <td>764370.72</td>\n      <td>0.0</td>\n      <td>0.0</td>\n      <td>0.00</td>\n      <td>18633.55</td>\n      <td>0.0</td>\n      <td>0.0</td>\n      <td>0.0</td>\n    </tr>\n    <tr>\n      <th>353200</th>\n      <td>17.0</td>\n      <td>CASH_OUT</td>\n      <td>176421.31</td>\n      <td>C1815279964</td>\n      <td>29911.00</td>\n      <td>0.00</td>\n      <td>C142246322</td>\n      <td>389324.49</td>\n      <td>565745.80</td>\n      <td>0.0</td>\n      <td>0.0</td>\n      <td>29911.00</td>\n      <td>176421.31</td>\n      <td>0.0</td>\n      <td>0.0</td>\n      <td>0.0</td>\n    </tr>\n  </tbody>\n</table>\n</div>"
     },
     "execution_count": 63,
     "metadata": {},
     "output_type": "execute_result"
    }
   ],
   "source": [
    "faultyTransfer.sample(16)"
   ],
   "metadata": {
    "collapsed": false,
    "pycharm": {
     "name": "#%%\n"
    }
   }
  },
  {
   "cell_type": "markdown",
   "source": [
    "<H3>Since we have to find out the Fraud Transactions out of the dataset, we are not considering the Successfully Completed Transactions.\n",
    "<bR><BR>Therefore, proceeding with the remaining datasets where Incomplete transactions are made, along the faulty transaction data."
   ],
   "metadata": {
    "collapsed": false,
    "pycharm": {
     "name": "#%% md\n"
    }
   }
  },
  {
   "cell_type": "code",
   "execution_count": 64,
   "outputs": [
    {
     "data": {
      "text/plain": "(988578, 16)"
     },
     "execution_count": 64,
     "metadata": {},
     "output_type": "execute_result"
    }
   ],
   "source": [
    "FraudData=data[~data.isin(true)].dropna()\n",
    "FraudData.shape"
   ],
   "metadata": {
    "collapsed": false,
    "pycharm": {
     "name": "#%%\n"
    }
   }
  },
  {
   "cell_type": "code",
   "execution_count": 65,
   "outputs": [
    {
     "data": {
      "text/plain": "         step      type      amount     nameOrig  oldbalanceOrg  \\\n481253   19.0  CASH_OUT  1861008.32  C1718961034     1861008.32   \n202361   13.0  TRANSFER  1161495.82  C1864459372     1161495.82   \n1030467  66.0  TRANSFER   107188.41  C1876689114      107188.41   \n1027282  48.0  CASH_OUT  5489302.04   C123757418     5489302.04   \n4693      4.0  TRANSFER    13707.11    C17222024       13707.11   \n1030297  54.0  TRANSFER   438224.60   C163085808      438224.60   \n622611   34.0  TRANSFER  1016540.35   C638438531     1016540.35   \n\n         newbalanceOrig     nameDest  oldbalanceDest  newbalanceDest  isFraud  \\\n481253              0.0   C714051433            0.00      1789942.62      1.0   \n202361              0.0   C537531657            0.00            0.00      1.0   \n1030467             0.0  C1824138036            0.00            0.00      1.0   \n1027282             0.0   C346649476      1356390.81      6845692.85      1.0   \n4693                0.0   C410033330            0.00            0.00      1.0   \n1030297             0.0   C652285552            0.00            0.00      1.0   \n622611              0.0  C2146216948            0.00            0.00      1.0   \n\n         isFlaggedFraud  origTransfer  destTransfer  CompleteTransfer  \\\n481253              1.0    1861008.32    1789942.62               0.0   \n202361              1.0    1161495.82          0.00               0.0   \n1030467             0.0     107188.41          0.00               0.0   \n1027282             1.0    5489302.04    5489302.04               0.0   \n4693                0.0      13707.11          0.00               0.0   \n1030297             1.0     438224.60          0.00               0.0   \n622611              1.0    1016540.35          0.00               0.0   \n\n         SuccessfullySent  CompleteAmtRecieved  \n481253                1.0                  0.0  \n202361                1.0                  0.0  \n1030467               1.0                  0.0  \n1027282               1.0                  0.0  \n4693                  1.0                  0.0  \n1030297               1.0                  0.0  \n622611                1.0                  0.0  ",
      "text/html": "<div>\n<style scoped>\n    .dataframe tbody tr th:only-of-type {\n        vertical-align: middle;\n    }\n\n    .dataframe tbody tr th {\n        vertical-align: top;\n    }\n\n    .dataframe thead th {\n        text-align: right;\n    }\n</style>\n<table border=\"1\" class=\"dataframe\">\n  <thead>\n    <tr style=\"text-align: right;\">\n      <th></th>\n      <th>step</th>\n      <th>type</th>\n      <th>amount</th>\n      <th>nameOrig</th>\n      <th>oldbalanceOrg</th>\n      <th>newbalanceOrig</th>\n      <th>nameDest</th>\n      <th>oldbalanceDest</th>\n      <th>newbalanceDest</th>\n      <th>isFraud</th>\n      <th>isFlaggedFraud</th>\n      <th>origTransfer</th>\n      <th>destTransfer</th>\n      <th>CompleteTransfer</th>\n      <th>SuccessfullySent</th>\n      <th>CompleteAmtRecieved</th>\n    </tr>\n  </thead>\n  <tbody>\n    <tr>\n      <th>481253</th>\n      <td>19.0</td>\n      <td>CASH_OUT</td>\n      <td>1861008.32</td>\n      <td>C1718961034</td>\n      <td>1861008.32</td>\n      <td>0.0</td>\n      <td>C714051433</td>\n      <td>0.00</td>\n      <td>1789942.62</td>\n      <td>1.0</td>\n      <td>1.0</td>\n      <td>1861008.32</td>\n      <td>1789942.62</td>\n      <td>0.0</td>\n      <td>1.0</td>\n      <td>0.0</td>\n    </tr>\n    <tr>\n      <th>202361</th>\n      <td>13.0</td>\n      <td>TRANSFER</td>\n      <td>1161495.82</td>\n      <td>C1864459372</td>\n      <td>1161495.82</td>\n      <td>0.0</td>\n      <td>C537531657</td>\n      <td>0.00</td>\n      <td>0.00</td>\n      <td>1.0</td>\n      <td>1.0</td>\n      <td>1161495.82</td>\n      <td>0.00</td>\n      <td>0.0</td>\n      <td>1.0</td>\n      <td>0.0</td>\n    </tr>\n    <tr>\n      <th>1030467</th>\n      <td>66.0</td>\n      <td>TRANSFER</td>\n      <td>107188.41</td>\n      <td>C1876689114</td>\n      <td>107188.41</td>\n      <td>0.0</td>\n      <td>C1824138036</td>\n      <td>0.00</td>\n      <td>0.00</td>\n      <td>1.0</td>\n      <td>0.0</td>\n      <td>107188.41</td>\n      <td>0.00</td>\n      <td>0.0</td>\n      <td>1.0</td>\n      <td>0.0</td>\n    </tr>\n    <tr>\n      <th>1027282</th>\n      <td>48.0</td>\n      <td>CASH_OUT</td>\n      <td>5489302.04</td>\n      <td>C123757418</td>\n      <td>5489302.04</td>\n      <td>0.0</td>\n      <td>C346649476</td>\n      <td>1356390.81</td>\n      <td>6845692.85</td>\n      <td>1.0</td>\n      <td>1.0</td>\n      <td>5489302.04</td>\n      <td>5489302.04</td>\n      <td>0.0</td>\n      <td>1.0</td>\n      <td>0.0</td>\n    </tr>\n    <tr>\n      <th>4693</th>\n      <td>4.0</td>\n      <td>TRANSFER</td>\n      <td>13707.11</td>\n      <td>C17222024</td>\n      <td>13707.11</td>\n      <td>0.0</td>\n      <td>C410033330</td>\n      <td>0.00</td>\n      <td>0.00</td>\n      <td>1.0</td>\n      <td>0.0</td>\n      <td>13707.11</td>\n      <td>0.00</td>\n      <td>0.0</td>\n      <td>1.0</td>\n      <td>0.0</td>\n    </tr>\n    <tr>\n      <th>1030297</th>\n      <td>54.0</td>\n      <td>TRANSFER</td>\n      <td>438224.60</td>\n      <td>C163085808</td>\n      <td>438224.60</td>\n      <td>0.0</td>\n      <td>C652285552</td>\n      <td>0.00</td>\n      <td>0.00</td>\n      <td>1.0</td>\n      <td>1.0</td>\n      <td>438224.60</td>\n      <td>0.00</td>\n      <td>0.0</td>\n      <td>1.0</td>\n      <td>0.0</td>\n    </tr>\n    <tr>\n      <th>622611</th>\n      <td>34.0</td>\n      <td>TRANSFER</td>\n      <td>1016540.35</td>\n      <td>C638438531</td>\n      <td>1016540.35</td>\n      <td>0.0</td>\n      <td>C2146216948</td>\n      <td>0.00</td>\n      <td>0.00</td>\n      <td>1.0</td>\n      <td>1.0</td>\n      <td>1016540.35</td>\n      <td>0.00</td>\n      <td>0.0</td>\n      <td>1.0</td>\n      <td>0.0</td>\n    </tr>\n  </tbody>\n</table>\n</div>"
     },
     "execution_count": 65,
     "metadata": {},
     "output_type": "execute_result"
    }
   ],
   "source": [
    "FraudData.where(FraudData.isFraud==1).dropna().sample(7)"
   ],
   "metadata": {
    "collapsed": false,
    "pycharm": {
     "name": "#%%\n"
    }
   }
  },
  {
   "cell_type": "markdown",
   "source": [],
   "metadata": {
    "collapsed": false,
    "pycharm": {
     "name": "#%% md\n"
    }
   }
  },
  {
   "cell_type": "markdown",
   "source": [
    "<H3>\n",
    "Current Accuracy of the model based on Provided Data"
   ],
   "metadata": {
    "collapsed": false,
    "pycharm": {
     "name": "#%% md\n"
    }
   }
  },
  {
   "cell_type": "code",
   "execution_count": 66,
   "outputs": [
    {
     "name": "stdout",
     "output_type": "stream",
     "text": [
      "accuracy =  72 %\n"
     ]
    }
   ],
   "source": [
    "from sklearn.metrics import accuracy_score\n",
    "print('accuracy = ',round(accuracy_score(FraudData.isFraud, FraudData.isFlaggedFraud)*100),'%')"
   ],
   "metadata": {
    "collapsed": false,
    "pycharm": {
     "name": "#%%\n"
    }
   }
  },
  {
   "cell_type": "markdown",
   "source": [
    "<H3>\n",
    "    Creating Predictor Model for Fraud data Based on the Data"
   ],
   "metadata": {
    "collapsed": false,
    "pycharm": {
     "name": "#%% md\n"
    }
   }
  },
  {
   "cell_type": "code",
   "execution_count": 67,
   "outputs": [
    {
     "data": {
      "text/plain": "         step      type     amount     nameOrig  oldbalanceOrg  \\\n15        1.0  CASH_OUT  229133.94   C905080434       15325.00   \n19        1.0  TRANSFER  215310.30  C1670993182         705.00   \n24        1.0  TRANSFER  311685.89  C1984094095       10835.00   \n82        1.0  TRANSFER  224606.64   C873175411           0.00   \n84        1.0  TRANSFER  379856.23  C1449772539           0.00   \n...       ...       ...        ...          ...            ...   \n1048483  95.0   CASH_IN  345998.11  C1864721083        5010.00   \n1048502  95.0  CASH_OUT  222985.32  C1204350021           0.00   \n1048507  95.0  TRANSFER  476779.24  C1104878203       19992.00   \n1048519  95.0  CASH_OUT  271378.96  C1617333943        6268.62   \n1048567  95.0  CASH_OUT  279674.05   C990252469       18002.85   \n\n         newbalanceOrig     nameDest  oldbalanceDest  newbalanceDest  isFraud  \\\n15                 0.00   C476402209         5083.00        51513.44      0.0   \n19                 0.00  C1100439041        22425.00            0.00      0.0   \n24                 0.00   C932583850         6267.00      2719172.89      0.0   \n82                 0.00   C766572210       354678.92            0.00      0.0   \n84                 0.00  C1590550415       900180.00     19200000.00      0.0   \n...                 ...          ...             ...             ...      ...   \n1048483       351008.11  C2091086284       442981.57        96983.45      0.0   \n1048502            0.00   C308249257      6363300.53      6586285.86      0.0   \n1048507            0.00  C1338644402            0.00       476779.24      0.0   \n1048519            0.00  C1654714274      3538250.81      3809629.77      0.0   \n1048567            0.00   C574439165      1847488.28      2127162.32      0.0   \n\n         isFlaggedFraud  origTransfer  destTransfer  CompleteTransfer  \\\n15                  1.0      15325.00      46430.44               0.0   \n19                  1.0        705.00      22425.00               0.0   \n24                  1.0      10835.00    2712905.89               0.0   \n82                  1.0          0.00     354678.92               0.0   \n84                  1.0          0.00   18299820.00               0.0   \n...                 ...           ...           ...               ...   \n1048483             1.0     345998.11     345998.12               0.0   \n1048502             1.0          0.00     222985.33               0.0   \n1048507             1.0      19992.00     476779.24               0.0   \n1048519             1.0       6268.62     271378.96               0.0   \n1048567             1.0      18002.85     279674.04               0.0   \n\n         SuccessfullySent  CompleteAmtRecieved  \n15                    0.0                  0.0  \n19                    0.0                  0.0  \n24                    0.0                  0.0  \n82                    0.0                  0.0  \n84                    0.0                  0.0  \n...                   ...                  ...  \n1048483               1.0                  0.0  \n1048502               0.0                  0.0  \n1048507               0.0                  1.0  \n1048519               0.0                  0.0  \n1048567               0.0                  0.0  \n\n[278579 rows x 16 columns]",
      "text/html": "<div>\n<style scoped>\n    .dataframe tbody tr th:only-of-type {\n        vertical-align: middle;\n    }\n\n    .dataframe tbody tr th {\n        vertical-align: top;\n    }\n\n    .dataframe thead th {\n        text-align: right;\n    }\n</style>\n<table border=\"1\" class=\"dataframe\">\n  <thead>\n    <tr style=\"text-align: right;\">\n      <th></th>\n      <th>step</th>\n      <th>type</th>\n      <th>amount</th>\n      <th>nameOrig</th>\n      <th>oldbalanceOrg</th>\n      <th>newbalanceOrig</th>\n      <th>nameDest</th>\n      <th>oldbalanceDest</th>\n      <th>newbalanceDest</th>\n      <th>isFraud</th>\n      <th>isFlaggedFraud</th>\n      <th>origTransfer</th>\n      <th>destTransfer</th>\n      <th>CompleteTransfer</th>\n      <th>SuccessfullySent</th>\n      <th>CompleteAmtRecieved</th>\n    </tr>\n  </thead>\n  <tbody>\n    <tr>\n      <th>15</th>\n      <td>1.0</td>\n      <td>CASH_OUT</td>\n      <td>229133.94</td>\n      <td>C905080434</td>\n      <td>15325.00</td>\n      <td>0.00</td>\n      <td>C476402209</td>\n      <td>5083.00</td>\n      <td>51513.44</td>\n      <td>0.0</td>\n      <td>1.0</td>\n      <td>15325.00</td>\n      <td>46430.44</td>\n      <td>0.0</td>\n      <td>0.0</td>\n      <td>0.0</td>\n    </tr>\n    <tr>\n      <th>19</th>\n      <td>1.0</td>\n      <td>TRANSFER</td>\n      <td>215310.30</td>\n      <td>C1670993182</td>\n      <td>705.00</td>\n      <td>0.00</td>\n      <td>C1100439041</td>\n      <td>22425.00</td>\n      <td>0.00</td>\n      <td>0.0</td>\n      <td>1.0</td>\n      <td>705.00</td>\n      <td>22425.00</td>\n      <td>0.0</td>\n      <td>0.0</td>\n      <td>0.0</td>\n    </tr>\n    <tr>\n      <th>24</th>\n      <td>1.0</td>\n      <td>TRANSFER</td>\n      <td>311685.89</td>\n      <td>C1984094095</td>\n      <td>10835.00</td>\n      <td>0.00</td>\n      <td>C932583850</td>\n      <td>6267.00</td>\n      <td>2719172.89</td>\n      <td>0.0</td>\n      <td>1.0</td>\n      <td>10835.00</td>\n      <td>2712905.89</td>\n      <td>0.0</td>\n      <td>0.0</td>\n      <td>0.0</td>\n    </tr>\n    <tr>\n      <th>82</th>\n      <td>1.0</td>\n      <td>TRANSFER</td>\n      <td>224606.64</td>\n      <td>C873175411</td>\n      <td>0.00</td>\n      <td>0.00</td>\n      <td>C766572210</td>\n      <td>354678.92</td>\n      <td>0.00</td>\n      <td>0.0</td>\n      <td>1.0</td>\n      <td>0.00</td>\n      <td>354678.92</td>\n      <td>0.0</td>\n      <td>0.0</td>\n      <td>0.0</td>\n    </tr>\n    <tr>\n      <th>84</th>\n      <td>1.0</td>\n      <td>TRANSFER</td>\n      <td>379856.23</td>\n      <td>C1449772539</td>\n      <td>0.00</td>\n      <td>0.00</td>\n      <td>C1590550415</td>\n      <td>900180.00</td>\n      <td>19200000.00</td>\n      <td>0.0</td>\n      <td>1.0</td>\n      <td>0.00</td>\n      <td>18299820.00</td>\n      <td>0.0</td>\n      <td>0.0</td>\n      <td>0.0</td>\n    </tr>\n    <tr>\n      <th>...</th>\n      <td>...</td>\n      <td>...</td>\n      <td>...</td>\n      <td>...</td>\n      <td>...</td>\n      <td>...</td>\n      <td>...</td>\n      <td>...</td>\n      <td>...</td>\n      <td>...</td>\n      <td>...</td>\n      <td>...</td>\n      <td>...</td>\n      <td>...</td>\n      <td>...</td>\n      <td>...</td>\n    </tr>\n    <tr>\n      <th>1048483</th>\n      <td>95.0</td>\n      <td>CASH_IN</td>\n      <td>345998.11</td>\n      <td>C1864721083</td>\n      <td>5010.00</td>\n      <td>351008.11</td>\n      <td>C2091086284</td>\n      <td>442981.57</td>\n      <td>96983.45</td>\n      <td>0.0</td>\n      <td>1.0</td>\n      <td>345998.11</td>\n      <td>345998.12</td>\n      <td>0.0</td>\n      <td>1.0</td>\n      <td>0.0</td>\n    </tr>\n    <tr>\n      <th>1048502</th>\n      <td>95.0</td>\n      <td>CASH_OUT</td>\n      <td>222985.32</td>\n      <td>C1204350021</td>\n      <td>0.00</td>\n      <td>0.00</td>\n      <td>C308249257</td>\n      <td>6363300.53</td>\n      <td>6586285.86</td>\n      <td>0.0</td>\n      <td>1.0</td>\n      <td>0.00</td>\n      <td>222985.33</td>\n      <td>0.0</td>\n      <td>0.0</td>\n      <td>0.0</td>\n    </tr>\n    <tr>\n      <th>1048507</th>\n      <td>95.0</td>\n      <td>TRANSFER</td>\n      <td>476779.24</td>\n      <td>C1104878203</td>\n      <td>19992.00</td>\n      <td>0.00</td>\n      <td>C1338644402</td>\n      <td>0.00</td>\n      <td>476779.24</td>\n      <td>0.0</td>\n      <td>1.0</td>\n      <td>19992.00</td>\n      <td>476779.24</td>\n      <td>0.0</td>\n      <td>0.0</td>\n      <td>1.0</td>\n    </tr>\n    <tr>\n      <th>1048519</th>\n      <td>95.0</td>\n      <td>CASH_OUT</td>\n      <td>271378.96</td>\n      <td>C1617333943</td>\n      <td>6268.62</td>\n      <td>0.00</td>\n      <td>C1654714274</td>\n      <td>3538250.81</td>\n      <td>3809629.77</td>\n      <td>0.0</td>\n      <td>1.0</td>\n      <td>6268.62</td>\n      <td>271378.96</td>\n      <td>0.0</td>\n      <td>0.0</td>\n      <td>0.0</td>\n    </tr>\n    <tr>\n      <th>1048567</th>\n      <td>95.0</td>\n      <td>CASH_OUT</td>\n      <td>279674.05</td>\n      <td>C990252469</td>\n      <td>18002.85</td>\n      <td>0.00</td>\n      <td>C574439165</td>\n      <td>1847488.28</td>\n      <td>2127162.32</td>\n      <td>0.0</td>\n      <td>1.0</td>\n      <td>18002.85</td>\n      <td>279674.04</td>\n      <td>0.0</td>\n      <td>0.0</td>\n      <td>0.0</td>\n    </tr>\n  </tbody>\n</table>\n<p>278579 rows × 16 columns</p>\n</div>"
     },
     "execution_count": 67,
     "metadata": {},
     "output_type": "execute_result"
    }
   ],
   "source": [
    "FraudData.where(FraudData.isFlaggedFraud==1).dropna()"
   ],
   "metadata": {
    "collapsed": false,
    "pycharm": {
     "name": "#%%\n"
    }
   }
  },
  {
   "cell_type": "markdown",
   "source": [
    "<H3>\n",
    "    Create the OneHotEncoder to convert Type from Categorical to Numerical"
   ],
   "metadata": {
    "collapsed": false,
    "pycharm": {
     "name": "#%% md\n"
    }
   }
  },
  {
   "cell_type": "code",
   "execution_count": 68,
   "outputs": [],
   "source": [
    "FraudDataOHE = pd.get_dummies (FraudData['type'], drop_first=True)"
   ],
   "metadata": {
    "collapsed": false,
    "pycharm": {
     "name": "#%%\n"
    }
   }
  },
  {
   "cell_type": "code",
   "execution_count": 69,
   "outputs": [
    {
     "data": {
      "text/plain": "         step      type     amount     nameOrig  oldbalanceOrg  \\\n0         1.0   PAYMENT    9839.64  C1231006815      170136.00   \n1         1.0   PAYMENT    1864.28  C1666544295       21249.00   \n2         1.0  TRANSFER     181.00  C1305486145         181.00   \n3         1.0  CASH_OUT     181.00   C840083671         181.00   \n5         1.0   PAYMENT    7817.71    C90045638       53860.00   \n...       ...       ...        ...          ...            ...   \n1048567  95.0  CASH_OUT  279674.05   C990252469       18002.85   \n1048569  95.0   PAYMENT    3210.11  C2113264897       11113.00   \n1048570  95.0  CASH_OUT  132557.35  C1179511630      479803.00   \n1048573  95.0   PAYMENT   10020.05  C1633237354       90605.00   \n1048574  95.0   PAYMENT   11450.03  C1264356443       80584.95   \n\n         newbalanceOrig     nameDest  oldbalanceDest  newbalanceDest  isFraud  \\\n0             160296.36  M1979787155            0.00            0.00      0.0   \n1              19384.72  M2044282225            0.00            0.00      0.0   \n2                  0.00   C553264065            0.00            0.00      1.0   \n3                  0.00    C38997010        21182.00            0.00      1.0   \n5              46042.29   M573487274            0.00            0.00      0.0   \n...                 ...          ...             ...             ...      ...   \n1048567            0.00   C574439165      1847488.28      2127162.32      0.0   \n1048569         7902.89  M1989479599            0.00            0.00      0.0   \n1048570       347245.65   C435674507       484329.37       616886.72      0.0   \n1048573        80584.95  M1964992463            0.00            0.00      0.0   \n1048574        69134.92   M677577406            0.00            0.00      0.0   \n\n         isFlaggedFraud  origTransfer  destTransfer  CompleteTransfer  \\\n0                   0.0       9839.64          0.00               0.0   \n1                   0.0       1864.28          0.00               0.0   \n2                   0.0        181.00          0.00               0.0   \n3                   0.0        181.00      21182.00               0.0   \n5                   0.0       7817.71          0.00               0.0   \n...                 ...           ...           ...               ...   \n1048567             1.0      18002.85     279674.04               0.0   \n1048569             0.0       3210.11          0.00               0.0   \n1048570             0.0     132557.35     132557.35               0.0   \n1048573             0.0      10020.05          0.00               0.0   \n1048574             0.0      11450.03          0.00               0.0   \n\n         SuccessfullySent  CompleteAmtRecieved  CASH_OUT  DEBIT  PAYMENT  \\\n0                     0.0                  0.0         0      0        1   \n1                     0.0                  0.0         0      0        1   \n2                     1.0                  0.0         0      0        0   \n3                     1.0                  0.0         1      0        0   \n5                     0.0                  0.0         0      0        1   \n...                   ...                  ...       ...    ...      ...   \n1048567               0.0                  0.0         1      0        0   \n1048569               0.0                  0.0         0      0        1   \n1048570               0.0                  0.0         1      0        0   \n1048573               0.0                  0.0         0      0        1   \n1048574               0.0                  0.0         0      0        1   \n\n         TRANSFER  \n0               0  \n1               0  \n2               1  \n3               0  \n5               0  \n...           ...  \n1048567         0  \n1048569         0  \n1048570         0  \n1048573         0  \n1048574         0  \n\n[988578 rows x 20 columns]",
      "text/html": "<div>\n<style scoped>\n    .dataframe tbody tr th:only-of-type {\n        vertical-align: middle;\n    }\n\n    .dataframe tbody tr th {\n        vertical-align: top;\n    }\n\n    .dataframe thead th {\n        text-align: right;\n    }\n</style>\n<table border=\"1\" class=\"dataframe\">\n  <thead>\n    <tr style=\"text-align: right;\">\n      <th></th>\n      <th>step</th>\n      <th>type</th>\n      <th>amount</th>\n      <th>nameOrig</th>\n      <th>oldbalanceOrg</th>\n      <th>newbalanceOrig</th>\n      <th>nameDest</th>\n      <th>oldbalanceDest</th>\n      <th>newbalanceDest</th>\n      <th>isFraud</th>\n      <th>isFlaggedFraud</th>\n      <th>origTransfer</th>\n      <th>destTransfer</th>\n      <th>CompleteTransfer</th>\n      <th>SuccessfullySent</th>\n      <th>CompleteAmtRecieved</th>\n      <th>CASH_OUT</th>\n      <th>DEBIT</th>\n      <th>PAYMENT</th>\n      <th>TRANSFER</th>\n    </tr>\n  </thead>\n  <tbody>\n    <tr>\n      <th>0</th>\n      <td>1.0</td>\n      <td>PAYMENT</td>\n      <td>9839.64</td>\n      <td>C1231006815</td>\n      <td>170136.00</td>\n      <td>160296.36</td>\n      <td>M1979787155</td>\n      <td>0.00</td>\n      <td>0.00</td>\n      <td>0.0</td>\n      <td>0.0</td>\n      <td>9839.64</td>\n      <td>0.00</td>\n      <td>0.0</td>\n      <td>0.0</td>\n      <td>0.0</td>\n      <td>0</td>\n      <td>0</td>\n      <td>1</td>\n      <td>0</td>\n    </tr>\n    <tr>\n      <th>1</th>\n      <td>1.0</td>\n      <td>PAYMENT</td>\n      <td>1864.28</td>\n      <td>C1666544295</td>\n      <td>21249.00</td>\n      <td>19384.72</td>\n      <td>M2044282225</td>\n      <td>0.00</td>\n      <td>0.00</td>\n      <td>0.0</td>\n      <td>0.0</td>\n      <td>1864.28</td>\n      <td>0.00</td>\n      <td>0.0</td>\n      <td>0.0</td>\n      <td>0.0</td>\n      <td>0</td>\n      <td>0</td>\n      <td>1</td>\n      <td>0</td>\n    </tr>\n    <tr>\n      <th>2</th>\n      <td>1.0</td>\n      <td>TRANSFER</td>\n      <td>181.00</td>\n      <td>C1305486145</td>\n      <td>181.00</td>\n      <td>0.00</td>\n      <td>C553264065</td>\n      <td>0.00</td>\n      <td>0.00</td>\n      <td>1.0</td>\n      <td>0.0</td>\n      <td>181.00</td>\n      <td>0.00</td>\n      <td>0.0</td>\n      <td>1.0</td>\n      <td>0.0</td>\n      <td>0</td>\n      <td>0</td>\n      <td>0</td>\n      <td>1</td>\n    </tr>\n    <tr>\n      <th>3</th>\n      <td>1.0</td>\n      <td>CASH_OUT</td>\n      <td>181.00</td>\n      <td>C840083671</td>\n      <td>181.00</td>\n      <td>0.00</td>\n      <td>C38997010</td>\n      <td>21182.00</td>\n      <td>0.00</td>\n      <td>1.0</td>\n      <td>0.0</td>\n      <td>181.00</td>\n      <td>21182.00</td>\n      <td>0.0</td>\n      <td>1.0</td>\n      <td>0.0</td>\n      <td>1</td>\n      <td>0</td>\n      <td>0</td>\n      <td>0</td>\n    </tr>\n    <tr>\n      <th>5</th>\n      <td>1.0</td>\n      <td>PAYMENT</td>\n      <td>7817.71</td>\n      <td>C90045638</td>\n      <td>53860.00</td>\n      <td>46042.29</td>\n      <td>M573487274</td>\n      <td>0.00</td>\n      <td>0.00</td>\n      <td>0.0</td>\n      <td>0.0</td>\n      <td>7817.71</td>\n      <td>0.00</td>\n      <td>0.0</td>\n      <td>0.0</td>\n      <td>0.0</td>\n      <td>0</td>\n      <td>0</td>\n      <td>1</td>\n      <td>0</td>\n    </tr>\n    <tr>\n      <th>...</th>\n      <td>...</td>\n      <td>...</td>\n      <td>...</td>\n      <td>...</td>\n      <td>...</td>\n      <td>...</td>\n      <td>...</td>\n      <td>...</td>\n      <td>...</td>\n      <td>...</td>\n      <td>...</td>\n      <td>...</td>\n      <td>...</td>\n      <td>...</td>\n      <td>...</td>\n      <td>...</td>\n      <td>...</td>\n      <td>...</td>\n      <td>...</td>\n      <td>...</td>\n    </tr>\n    <tr>\n      <th>1048567</th>\n      <td>95.0</td>\n      <td>CASH_OUT</td>\n      <td>279674.05</td>\n      <td>C990252469</td>\n      <td>18002.85</td>\n      <td>0.00</td>\n      <td>C574439165</td>\n      <td>1847488.28</td>\n      <td>2127162.32</td>\n      <td>0.0</td>\n      <td>1.0</td>\n      <td>18002.85</td>\n      <td>279674.04</td>\n      <td>0.0</td>\n      <td>0.0</td>\n      <td>0.0</td>\n      <td>1</td>\n      <td>0</td>\n      <td>0</td>\n      <td>0</td>\n    </tr>\n    <tr>\n      <th>1048569</th>\n      <td>95.0</td>\n      <td>PAYMENT</td>\n      <td>3210.11</td>\n      <td>C2113264897</td>\n      <td>11113.00</td>\n      <td>7902.89</td>\n      <td>M1989479599</td>\n      <td>0.00</td>\n      <td>0.00</td>\n      <td>0.0</td>\n      <td>0.0</td>\n      <td>3210.11</td>\n      <td>0.00</td>\n      <td>0.0</td>\n      <td>0.0</td>\n      <td>0.0</td>\n      <td>0</td>\n      <td>0</td>\n      <td>1</td>\n      <td>0</td>\n    </tr>\n    <tr>\n      <th>1048570</th>\n      <td>95.0</td>\n      <td>CASH_OUT</td>\n      <td>132557.35</td>\n      <td>C1179511630</td>\n      <td>479803.00</td>\n      <td>347245.65</td>\n      <td>C435674507</td>\n      <td>484329.37</td>\n      <td>616886.72</td>\n      <td>0.0</td>\n      <td>0.0</td>\n      <td>132557.35</td>\n      <td>132557.35</td>\n      <td>0.0</td>\n      <td>0.0</td>\n      <td>0.0</td>\n      <td>1</td>\n      <td>0</td>\n      <td>0</td>\n      <td>0</td>\n    </tr>\n    <tr>\n      <th>1048573</th>\n      <td>95.0</td>\n      <td>PAYMENT</td>\n      <td>10020.05</td>\n      <td>C1633237354</td>\n      <td>90605.00</td>\n      <td>80584.95</td>\n      <td>M1964992463</td>\n      <td>0.00</td>\n      <td>0.00</td>\n      <td>0.0</td>\n      <td>0.0</td>\n      <td>10020.05</td>\n      <td>0.00</td>\n      <td>0.0</td>\n      <td>0.0</td>\n      <td>0.0</td>\n      <td>0</td>\n      <td>0</td>\n      <td>1</td>\n      <td>0</td>\n    </tr>\n    <tr>\n      <th>1048574</th>\n      <td>95.0</td>\n      <td>PAYMENT</td>\n      <td>11450.03</td>\n      <td>C1264356443</td>\n      <td>80584.95</td>\n      <td>69134.92</td>\n      <td>M677577406</td>\n      <td>0.00</td>\n      <td>0.00</td>\n      <td>0.0</td>\n      <td>0.0</td>\n      <td>11450.03</td>\n      <td>0.00</td>\n      <td>0.0</td>\n      <td>0.0</td>\n      <td>0.0</td>\n      <td>0</td>\n      <td>0</td>\n      <td>1</td>\n      <td>0</td>\n    </tr>\n  </tbody>\n</table>\n<p>988578 rows × 20 columns</p>\n</div>"
     },
     "execution_count": 69,
     "metadata": {},
     "output_type": "execute_result"
    }
   ],
   "source": [
    "FraudData=FraudData.join(FraudDataOHE)\n",
    "FraudData"
   ],
   "metadata": {
    "collapsed": false,
    "pycharm": {
     "name": "#%%\n"
    }
   }
  },
  {
   "cell_type": "markdown",
   "source": [
    "<H3>Using Random Forest Classifier as the Fraud Predictor"
   ],
   "metadata": {
    "collapsed": false,
    "pycharm": {
     "name": "#%% md\n"
    }
   }
  },
  {
   "cell_type": "code",
   "execution_count": 70,
   "outputs": [],
   "source": [
    "from sklearn.ensemble import RandomForestClassifier\n",
    "from sklearn.model_selection import train_test_split"
   ],
   "metadata": {
    "collapsed": false,
    "pycharm": {
     "name": "#%%\n"
    }
   }
  },
  {
   "cell_type": "markdown",
   "source": [
    "<H3>\n",
    "    Discarding Unnecessary Columns from Predictor"
   ],
   "metadata": {
    "collapsed": false,
    "pycharm": {
     "name": "#%% md\n"
    }
   }
  },
  {
   "cell_type": "code",
   "execution_count": 71,
   "outputs": [],
   "source": [
    "X = FraudData[['amount','oldbalanceDest','oldbalanceOrg','newbalanceDest','newbalanceOrig','origTransfer','destTransfer', 'CASH_OUT','DEBIT','PAYMENT','TRANSFER']]\n",
    "Y = FraudData[['isFraud']]"
   ],
   "metadata": {
    "collapsed": false,
    "pycharm": {
     "name": "#%%\n"
    }
   }
  },
  {
   "cell_type": "code",
   "execution_count": 72,
   "outputs": [],
   "source": [
    "xtrain, xtest, ytrain, ytest = train_test_split(X,Y,test_size=0.3)"
   ],
   "metadata": {
    "collapsed": false,
    "pycharm": {
     "name": "#%%\n"
    }
   }
  },
  {
   "cell_type": "code",
   "execution_count": 73,
   "outputs": [
    {
     "name": "stdout",
     "output_type": "stream",
     "text": [
      "            amount  oldbalanceDest  oldbalanceOrg  newbalanceDest  \\\n",
      "965008      411.88            0.00       10045.00            0.00   \n",
      "410407    38707.10       261419.87       10103.00       300126.97   \n",
      "188065   548566.88            0.00       30612.00            0.00   \n",
      "265557    98243.37       615921.56     2682660.03       723424.67   \n",
      "502894     5921.65            0.00           0.00            0.00   \n",
      "...            ...             ...            ...             ...   \n",
      "1005311   26794.02            0.00           0.00            0.00   \n",
      "346668   184870.38      3571489.17      115957.00      3756359.55   \n",
      "117823   849307.19       277376.84        7146.00      1796739.33   \n",
      "449998   113109.46       155299.37           0.00       268408.82   \n",
      "399278   666179.91       137809.03       24874.00            0.00   \n",
      "\n",
      "         newbalanceOrig  origTransfer  destTransfer  CASH_OUT  DEBIT  PAYMENT  \\\n",
      "965008          9633.12        411.88          0.00         0      0        1   \n",
      "410407             0.00      10103.00      38707.10         1      0        0   \n",
      "188065        579178.88     548566.88          0.00         0      0        0   \n",
      "265557       2780903.40      98243.37     107503.11         0      0        0   \n",
      "502894             0.00          0.00          0.00         0      0        1   \n",
      "...                 ...           ...           ...       ...    ...      ...   \n",
      "1005311            0.00          0.00          0.00         0      0        1   \n",
      "346668             0.00     115957.00     184870.38         1      0        0   \n",
      "117823             0.00       7146.00    1519362.49         0      0        0   \n",
      "449998             0.00          0.00     113109.45         1      0        0   \n",
      "399278             0.00      24874.00     137809.03         0      0        0   \n",
      "\n",
      "         TRANSFER  \n",
      "965008          0  \n",
      "410407          0  \n",
      "188065          0  \n",
      "265557          0  \n",
      "502894          0  \n",
      "...           ...  \n",
      "1005311         0  \n",
      "346668          0  \n",
      "117823          1  \n",
      "449998          0  \n",
      "399278          1  \n",
      "\n",
      "[692004 rows x 11 columns]\n"
     ]
    }
   ],
   "source": [
    "print(pd.DataFrame(xtrain))"
   ],
   "metadata": {
    "collapsed": false,
    "pycharm": {
     "name": "#%%\n"
    }
   }
  },
  {
   "cell_type": "code",
   "execution_count": 74,
   "outputs": [
    {
     "name": "stderr",
     "output_type": "stream",
     "text": [
      "C:\\Users\\Manz\\AppData\\Local\\Temp\\ipykernel_2704\\1644507227.py:2: DataConversionWarning: A column-vector y was passed when a 1d array was expected. Please change the shape of y to (n_samples,), for example using ravel().\n",
      "  classifier.fit(xtrain, ytrain)\n"
     ]
    },
    {
     "data": {
      "text/plain": "RandomForestClassifier(random_state=0)"
     },
     "execution_count": 74,
     "metadata": {},
     "output_type": "execute_result"
    }
   ],
   "source": [
    "classifier= RandomForestClassifier(criterion='gini', random_state=0)\n",
    "classifier.fit(xtrain, ytrain)"
   ],
   "metadata": {
    "collapsed": false,
    "pycharm": {
     "name": "#%%\n"
    }
   }
  },
  {
   "cell_type": "code",
   "execution_count": 75,
   "outputs": [],
   "source": [
    "Y_Pred = classifier.predict(xtest)"
   ],
   "metadata": {
    "collapsed": false,
    "pycharm": {
     "name": "#%%\n"
    }
   }
  },
  {
   "cell_type": "markdown",
   "source": [
    "<H2><font style=\"font-family:calibri\">Performance Metrics</h2>\n",
    "    <h3>Analysing the accuracy, f1 score, precision and recall of the Model, it can be considered that it is an efficient model to predict fraud transactions if the necessary parameters are provided.</h3>"
   ],
   "metadata": {
    "collapsed": false,
    "pycharm": {
     "name": "#%% md\n"
    }
   }
  },
  {
   "cell_type": "code",
   "execution_count": 76,
   "outputs": [
    {
     "name": "stdout",
     "output_type": "stream",
     "text": [
      "accuracy =  99.97 %\n",
      "precision =  95.39 %\n",
      "recall =  73.14 %\n",
      "f1-score =  82.8 %\n",
      "roc_auc score =  86.57 %\n",
      "\n",
      "\n",
      "              precision    recall  f1-score   support\n",
      "\n",
      "         0.0       1.00      1.00      1.00    296291\n",
      "         1.0       0.95      0.73      0.83       283\n",
      "\n",
      "    accuracy                           1.00    296574\n",
      "   macro avg       0.98      0.87      0.91    296574\n",
      "weighted avg       1.00      1.00      1.00    296574\n",
      "\n"
     ]
    }
   ],
   "source": [
    "from sklearn.metrics import f1_score, accuracy_score, precision_score, recall_score, roc_auc_score\n",
    "print('accuracy = ',round(accuracy_score(ytest, Y_Pred)*100,2),'%')\n",
    "print('precision = ',round(precision_score(ytest, Y_Pred)*100,2),'%')\n",
    "print('recall = ',round(recall_score(ytest, Y_Pred)*100,2),'%')\n",
    "print('f1-score = ',round(f1_score(ytest, Y_Pred)*100,2),'%')\n",
    "print('roc_auc score = ',round(roc_auc_score(ytest, Y_Pred)*100,2),'%\\n\\n')\n",
    "\n",
    "from sklearn.metrics import classification_report\n",
    "print(classification_report(ytest, Y_Pred))"
   ],
   "metadata": {
    "collapsed": false,
    "pycharm": {
     "name": "#%%\n"
    }
   }
  },
  {
   "cell_type": "code",
   "execution_count": 77,
   "outputs": [
    {
     "name": "stdout",
     "output_type": "stream",
     "text": [
      "[[296281     10]\n",
      " [    76    207]]\n"
     ]
    },
    {
     "data": {
      "text/plain": "Text(61.0, 0.5, 'Original Fraud')"
     },
     "execution_count": 77,
     "metadata": {},
     "output_type": "execute_result"
    },
    {
     "data": {
      "text/plain": "<Figure size 648x432 with 2 Axes>",
      "image/png": "[encoded data removed]"
     },
     "metadata": {},
     "output_type": "display_data"
    }
   ],
   "source": [
    "from matplotlib import pyplot as plt\n",
    "from sklearn.metrics import confusion_matrix\n",
    "import seaborn as sns\n",
    "cm = confusion_matrix(ytest, Y_Pred)\n",
    "print(cm)\n",
    "plt.figure(figsize=(9,6))\n",
    "sns.heatmap(cm,annot=True,fmt= '')\n",
    "plt.xlabel('Predicted Fraud')\n",
    "plt.ylabel('Original Fraud')"
   ],
   "metadata": {
    "collapsed": false,
    "pycharm": {
     "name": "#%%\n"
    }
   }
  },
  {
   "cell_type": "markdown",
   "source": [
    "<H3> As mentioned above, the features that finally are giving out the correct result for the fraudulant transactions are:<br> 'amount','oldbalanceDest','oldbalanceOrg','newbalanceDest','newbalanceOrig','origTransfer','destTransfer', 'type'.\n",
    "    \n",
    "<br> These factors determine whether the transaction is fraud or not on the basis of the given conditions such as the limits-per-transaction, end-to-end complete transaction of amounts, etc. the type of transaction is also considered as the isFraud feature is considered when the Fraudulated user cashes out all of the victim's amount, or such, whereas the balance logs play a vital role for checking out of complete transactions."
   ],
   "metadata": {
    "collapsed": false,
    "pycharm": {
     "name": "#%% md\n"
    }
   }
  },
  {
   "cell_type": "markdown",
   "source": [
    "<H3>Now mapping the prediction on the complete dataset"
   ],
   "metadata": {
    "collapsed": false,
    "pycharm": {
     "name": "#%% md\n"
    }
   }
  },
  {
   "cell_type": "code",
   "execution_count": 78,
   "outputs": [],
   "source": [
    "Fraud_Predict = classifier.predict(X)\n",
    "Fraud_Predict=pd.DataFrame(Fraud_Predict)"
   ],
   "metadata": {
    "collapsed": false,
    "pycharm": {
     "name": "#%%\n"
    }
   }
  },
  {
   "cell_type": "code",
   "execution_count": 79,
   "outputs": [],
   "source": [
    "FraudData=FraudData.drop(columns=FraudData[['CASH_OUT','DEBIT','PAYMENT','TRANSFER','origTransfer','destTransfer','CompleteTransfer','SuccessfullySent', 'CompleteAmtRecieved']])"
   ],
   "metadata": {
    "collapsed": false,
    "pycharm": {
     "name": "#%%\n"
    }
   }
  },
  {
   "cell_type": "code",
   "execution_count": 80,
   "outputs": [],
   "source": [
    "FraudData['NewPredict']=Fraud_Predict\n",
    "FraudData=FraudData.dropna()"
   ],
   "metadata": {
    "collapsed": false,
    "pycharm": {
     "name": "#%%\n"
    }
   }
  },
  {
   "cell_type": "markdown",
   "source": [
    "<H3>Displaying Fraud Predicted Samples which were originally flagged as Fraud"
   ],
   "metadata": {
    "collapsed": false,
    "pycharm": {
     "name": "#%% md\n"
    }
   }
  },
  {
   "cell_type": "code",
   "execution_count": 81,
   "outputs": [
    {
     "data": {
      "text/plain": "        step      type      amount     nameOrig  oldbalanceOrg  \\\n2        1.0  TRANSFER      181.00  C1305486145         181.00   \n625      1.0   CASH_IN   219220.21   C811562535     4028495.42   \n4965     5.0   CASH_IN   585796.59  C1982072255    10400000.00   \n6330     6.0  CASH_OUT   517419.65   C945213643           0.00   \n22912    8.0  CASH_OUT   427512.51   C929679144        7600.00   \n...      ...       ...         ...          ...            ...   \n972431  44.0  TRANSFER   408342.01   C345722230           0.00   \n972435  44.0  TRANSFER   321501.94   C318091875           0.00   \n972436  44.0  TRANSFER  1009923.37  C1501352305           0.00   \n975111  44.0  CASH_OUT   267598.60   C586215205           0.00   \n985413  45.0  CASH_OUT   357045.02   C122615816           0.00   \n\n        newbalanceOrig     nameDest  oldbalanceDest  newbalanceDest  isFraud  \\\n2                 0.00   C553264065            0.00            0.00      1.0   \n625         4247715.63   C451111351      1974114.63      3940085.21      0.0   \n4965       10900000.00   C728526866      5925754.14      5154700.22      0.0   \n6330              0.00   C798678484       747686.12      1270287.47      0.0   \n22912             0.00   C357863579        47457.17       222337.44      0.0   \n...                ...          ...             ...             ...      ...   \n972431            0.00   C133285043      1561029.84      1969371.85      0.0   \n972435            0.00  C1629934439      2028390.44      2349892.38      0.0   \n972436            0.00  C1212809725      1210741.07      2220664.44      0.0   \n975111            0.00   C644345897      7436067.83      7703666.43      0.0   \n985413            0.00   C151596051       553907.55       910952.57      0.0   \n\n        isFlaggedFraud  NewPredict  \n2                  0.0         1.0  \n625                1.0         1.0  \n4965               1.0         1.0  \n6330               1.0         1.0  \n22912              1.0         1.0  \n...                ...         ...  \n972431             1.0         1.0  \n972435             1.0         1.0  \n972436             1.0         1.0  \n975111             1.0         1.0  \n985413             1.0         1.0  \n\n[177 rows x 12 columns]",
      "text/html": "<div>\n<style scoped>\n    .dataframe tbody tr th:only-of-type {\n        vertical-align: middle;\n    }\n\n    .dataframe tbody tr th {\n        vertical-align: top;\n    }\n\n    .dataframe thead th {\n        text-align: right;\n    }\n</style>\n<table border=\"1\" class=\"dataframe\">\n  <thead>\n    <tr style=\"text-align: right;\">\n      <th></th>\n      <th>step</th>\n      <th>type</th>\n      <th>amount</th>\n      <th>nameOrig</th>\n      <th>oldbalanceOrg</th>\n      <th>newbalanceOrig</th>\n      <th>nameDest</th>\n      <th>oldbalanceDest</th>\n      <th>newbalanceDest</th>\n      <th>isFraud</th>\n      <th>isFlaggedFraud</th>\n      <th>NewPredict</th>\n    </tr>\n  </thead>\n  <tbody>\n    <tr>\n      <th>2</th>\n      <td>1.0</td>\n      <td>TRANSFER</td>\n      <td>181.00</td>\n      <td>C1305486145</td>\n      <td>181.00</td>\n      <td>0.00</td>\n      <td>C553264065</td>\n      <td>0.00</td>\n      <td>0.00</td>\n      <td>1.0</td>\n      <td>0.0</td>\n      <td>1.0</td>\n    </tr>\n    <tr>\n      <th>625</th>\n      <td>1.0</td>\n      <td>CASH_IN</td>\n      <td>219220.21</td>\n      <td>C811562535</td>\n      <td>4028495.42</td>\n      <td>4247715.63</td>\n      <td>C451111351</td>\n      <td>1974114.63</td>\n      <td>3940085.21</td>\n      <td>0.0</td>\n      <td>1.0</td>\n      <td>1.0</td>\n    </tr>\n    <tr>\n      <th>4965</th>\n      <td>5.0</td>\n      <td>CASH_IN</td>\n      <td>585796.59</td>\n      <td>C1982072255</td>\n      <td>10400000.00</td>\n      <td>10900000.00</td>\n      <td>C728526866</td>\n      <td>5925754.14</td>\n      <td>5154700.22</td>\n      <td>0.0</td>\n      <td>1.0</td>\n      <td>1.0</td>\n    </tr>\n    <tr>\n      <th>6330</th>\n      <td>6.0</td>\n      <td>CASH_OUT</td>\n      <td>517419.65</td>\n      <td>C945213643</td>\n      <td>0.00</td>\n      <td>0.00</td>\n      <td>C798678484</td>\n      <td>747686.12</td>\n      <td>1270287.47</td>\n      <td>0.0</td>\n      <td>1.0</td>\n      <td>1.0</td>\n    </tr>\n    <tr>\n      <th>22912</th>\n      <td>8.0</td>\n      <td>CASH_OUT</td>\n      <td>427512.51</td>\n      <td>C929679144</td>\n      <td>7600.00</td>\n      <td>0.00</td>\n      <td>C357863579</td>\n      <td>47457.17</td>\n      <td>222337.44</td>\n      <td>0.0</td>\n      <td>1.0</td>\n      <td>1.0</td>\n    </tr>\n    <tr>\n      <th>...</th>\n      <td>...</td>\n      <td>...</td>\n      <td>...</td>\n      <td>...</td>\n      <td>...</td>\n      <td>...</td>\n      <td>...</td>\n      <td>...</td>\n      <td>...</td>\n      <td>...</td>\n      <td>...</td>\n      <td>...</td>\n    </tr>\n    <tr>\n      <th>972431</th>\n      <td>44.0</td>\n      <td>TRANSFER</td>\n      <td>408342.01</td>\n      <td>C345722230</td>\n      <td>0.00</td>\n      <td>0.00</td>\n      <td>C133285043</td>\n      <td>1561029.84</td>\n      <td>1969371.85</td>\n      <td>0.0</td>\n      <td>1.0</td>\n      <td>1.0</td>\n    </tr>\n    <tr>\n      <th>972435</th>\n      <td>44.0</td>\n      <td>TRANSFER</td>\n      <td>321501.94</td>\n      <td>C318091875</td>\n      <td>0.00</td>\n      <td>0.00</td>\n      <td>C1629934439</td>\n      <td>2028390.44</td>\n      <td>2349892.38</td>\n      <td>0.0</td>\n      <td>1.0</td>\n      <td>1.0</td>\n    </tr>\n    <tr>\n      <th>972436</th>\n      <td>44.0</td>\n      <td>TRANSFER</td>\n      <td>1009923.37</td>\n      <td>C1501352305</td>\n      <td>0.00</td>\n      <td>0.00</td>\n      <td>C1212809725</td>\n      <td>1210741.07</td>\n      <td>2220664.44</td>\n      <td>0.0</td>\n      <td>1.0</td>\n      <td>1.0</td>\n    </tr>\n    <tr>\n      <th>975111</th>\n      <td>44.0</td>\n      <td>CASH_OUT</td>\n      <td>267598.60</td>\n      <td>C586215205</td>\n      <td>0.00</td>\n      <td>0.00</td>\n      <td>C644345897</td>\n      <td>7436067.83</td>\n      <td>7703666.43</td>\n      <td>0.0</td>\n      <td>1.0</td>\n      <td>1.0</td>\n    </tr>\n    <tr>\n      <th>985413</th>\n      <td>45.0</td>\n      <td>CASH_OUT</td>\n      <td>357045.02</td>\n      <td>C122615816</td>\n      <td>0.00</td>\n      <td>0.00</td>\n      <td>C151596051</td>\n      <td>553907.55</td>\n      <td>910952.57</td>\n      <td>0.0</td>\n      <td>1.0</td>\n      <td>1.0</td>\n    </tr>\n  </tbody>\n</table>\n<p>177 rows × 12 columns</p>\n</div>"
     },
     "execution_count": 81,
     "metadata": {},
     "output_type": "execute_result"
    }
   ],
   "source": [
    "FraudData.where((FraudData.NewPredict==1) & ((FraudData.isFraud==1) | (FraudData.isFlaggedFraud==1))).dropna()"
   ],
   "metadata": {
    "collapsed": false,
    "pycharm": {
     "name": "#%%\n"
    }
   }
  },
  {
   "cell_type": "markdown",
   "source": [
    "<H3>Displaying Non-Fraud Predicted Samples"
   ],
   "metadata": {
    "collapsed": false,
    "pycharm": {
     "name": "#%% md\n"
    }
   }
  },
  {
   "cell_type": "code",
   "execution_count": 82,
   "outputs": [
    {
     "data": {
      "text/plain": "        step      type     amount     nameOrig  oldbalanceOrg  newbalanceOrig  \\\n741285  38.0  CASH_OUT  282007.99  C1190190079         138.00            0.00   \n289337  15.0  CASH_OUT  214732.23   C282488628       21502.00            0.00   \n481580  19.0  TRANSFER  175598.25   C639989148           0.00            0.00   \n911666  43.0   CASH_IN  250706.28  C1896647072     7126099.88      7376806.16   \n281140  15.0  CASH_OUT   38376.54    C96744089           0.00            0.00   \n721746  37.0   PAYMENT   76832.26  C1085924188         526.00            0.00   \n270406  15.0   PAYMENT    2870.94  C1125935115        1245.00            0.00   \n\n           nameDest  oldbalanceDest  newbalanceDest  isFraud  isFlaggedFraud  \\\n741285  C2134317947       120571.43       402579.43      0.0             1.0   \n289337  C1308125128       370536.25       585268.49      0.0             1.0   \n481580  C1789142765       516203.14       691801.38      0.0             0.0   \n911666  C1039424113       907420.62       656714.34      0.0             1.0   \n281140   C823249274       511941.36       550317.90      0.0             0.0   \n721746   M968510231            0.00            0.00      0.0             0.0   \n270406  M1340920681            0.00            0.00      0.0             0.0   \n\n        NewPredict  \n741285         0.0  \n289337         0.0  \n481580         0.0  \n911666         0.0  \n281140         0.0  \n721746         0.0  \n270406         0.0  ",
      "text/html": "<div>\n<style scoped>\n    .dataframe tbody tr th:only-of-type {\n        vertical-align: middle;\n    }\n\n    .dataframe tbody tr th {\n        vertical-align: top;\n    }\n\n    .dataframe thead th {\n        text-align: right;\n    }\n</style>\n<table border=\"1\" class=\"dataframe\">\n  <thead>\n    <tr style=\"text-align: right;\">\n      <th></th>\n      <th>step</th>\n      <th>type</th>\n      <th>amount</th>\n      <th>nameOrig</th>\n      <th>oldbalanceOrg</th>\n      <th>newbalanceOrig</th>\n      <th>nameDest</th>\n      <th>oldbalanceDest</th>\n      <th>newbalanceDest</th>\n      <th>isFraud</th>\n      <th>isFlaggedFraud</th>\n      <th>NewPredict</th>\n    </tr>\n  </thead>\n  <tbody>\n    <tr>\n      <th>741285</th>\n      <td>38.0</td>\n      <td>CASH_OUT</td>\n      <td>282007.99</td>\n      <td>C1190190079</td>\n      <td>138.00</td>\n      <td>0.00</td>\n      <td>C2134317947</td>\n      <td>120571.43</td>\n      <td>402579.43</td>\n      <td>0.0</td>\n      <td>1.0</td>\n      <td>0.0</td>\n    </tr>\n    <tr>\n      <th>289337</th>\n      <td>15.0</td>\n      <td>CASH_OUT</td>\n      <td>214732.23</td>\n      <td>C282488628</td>\n      <td>21502.00</td>\n      <td>0.00</td>\n      <td>C1308125128</td>\n      <td>370536.25</td>\n      <td>585268.49</td>\n      <td>0.0</td>\n      <td>1.0</td>\n      <td>0.0</td>\n    </tr>\n    <tr>\n      <th>481580</th>\n      <td>19.0</td>\n      <td>TRANSFER</td>\n      <td>175598.25</td>\n      <td>C639989148</td>\n      <td>0.00</td>\n      <td>0.00</td>\n      <td>C1789142765</td>\n      <td>516203.14</td>\n      <td>691801.38</td>\n      <td>0.0</td>\n      <td>0.0</td>\n      <td>0.0</td>\n    </tr>\n    <tr>\n      <th>911666</th>\n      <td>43.0</td>\n      <td>CASH_IN</td>\n      <td>250706.28</td>\n      <td>C1896647072</td>\n      <td>7126099.88</td>\n      <td>7376806.16</td>\n      <td>C1039424113</td>\n      <td>907420.62</td>\n      <td>656714.34</td>\n      <td>0.0</td>\n      <td>1.0</td>\n      <td>0.0</td>\n    </tr>\n    <tr>\n      <th>281140</th>\n      <td>15.0</td>\n      <td>CASH_OUT</td>\n      <td>38376.54</td>\n      <td>C96744089</td>\n      <td>0.00</td>\n      <td>0.00</td>\n      <td>C823249274</td>\n      <td>511941.36</td>\n      <td>550317.90</td>\n      <td>0.0</td>\n      <td>0.0</td>\n      <td>0.0</td>\n    </tr>\n    <tr>\n      <th>721746</th>\n      <td>37.0</td>\n      <td>PAYMENT</td>\n      <td>76832.26</td>\n      <td>C1085924188</td>\n      <td>526.00</td>\n      <td>0.00</td>\n      <td>M968510231</td>\n      <td>0.00</td>\n      <td>0.00</td>\n      <td>0.0</td>\n      <td>0.0</td>\n      <td>0.0</td>\n    </tr>\n    <tr>\n      <th>270406</th>\n      <td>15.0</td>\n      <td>PAYMENT</td>\n      <td>2870.94</td>\n      <td>C1125935115</td>\n      <td>1245.00</td>\n      <td>0.00</td>\n      <td>M1340920681</td>\n      <td>0.00</td>\n      <td>0.00</td>\n      <td>0.0</td>\n      <td>0.0</td>\n      <td>0.0</td>\n    </tr>\n  </tbody>\n</table>\n</div>"
     },
     "execution_count": 82,
     "metadata": {},
     "output_type": "execute_result"
    }
   ],
   "source": [
    "FraudData.where(FraudData.NewPredict==0).sample(7)"
   ],
   "metadata": {
    "collapsed": false,
    "pycharm": {
     "name": "#%%\n"
    }
   }
  },
  {
   "cell_type": "markdown",
   "source": [
    "<H3>Displaying Proportion of Frauds in original Dataset"
   ],
   "metadata": {
    "collapsed": false,
    "pycharm": {
     "name": "#%% md\n"
    }
   }
  },
  {
   "cell_type": "code",
   "execution_count": 83,
   "outputs": [],
   "source": [
    "true=true.drop(columns=true[['origTransfer','destTransfer','CompleteTransfer','SuccessfullySent', 'CompleteAmtRecieved']])"
   ],
   "metadata": {
    "collapsed": false,
    "pycharm": {
     "name": "#%%\n"
    }
   }
  },
  {
   "cell_type": "code",
   "execution_count": 84,
   "outputs": [],
   "source": [
    "FinalData= pd.concat([true, FraudData])"
   ],
   "metadata": {
    "collapsed": false,
    "pycharm": {
     "name": "#%%\n"
    }
   }
  },
  {
   "cell_type": "code",
   "execution_count": 85,
   "outputs": [
    {
     "name": "stdout",
     "output_type": "stream",
     "text": [
      "\n",
      "\n",
      "Total Fraud Transactions:  768  -->  0.08 % of total Transactions\n",
      "Total Non-Fraud Transactions:  933484  -->  99.92 % of total Transactions\n"
     ]
    }
   ],
   "source": [
    "Frauds=FinalData['NewPredict'].value_counts()[1]\n",
    "Non_Frauds=FinalData['NewPredict'].value_counts()[0]\n",
    "print('\\n\\nTotal Fraud Transactions: ',Frauds,' --> ',round(Frauds/(Frauds+Non_Frauds)*100,2),'% of total Transactions')\n",
    "print('Total Non-Fraud Transactions: ',Non_Frauds,' --> ',round(Non_Frauds/(Frauds+Non_Frauds)*100,2),'% of total Transactions')"
   ],
   "metadata": {
    "collapsed": false,
    "pycharm": {
     "name": "#%%\n"
    }
   }
  },
  {
   "cell_type": "markdown",
   "source": [
    "<H2>Conclusion:</h2>\n",
    "<H3>To conclude, it can be inferred that the company can reduce the amount of fraud transactions firstly by not allowing any transaction over the limit at a time. It may also analyse the change of data for the Merchant accounts as well in order to keep a check if any merchant is performing frauds or not. The total endpoint transaction should be preserved in order to reduce incomplete transaction with proper monitoring.</h3>"
   ],
   "metadata": {
    "collapsed": false,
    "pycharm": {
     "name": "#%% md\n"
    }
   }
  },
  {
   "cell_type": "code",
   "execution_count": 86,
   "metadata": {
    "pycharm": {
     "name": "#%%\n"
    }
   },
   "outputs": [],
   "source": [
    "FinalData= pd.concat([true, FraudData])"
   ]
  },
  {
   "cell_type": "code",
   "execution_count": 87,
   "metadata": {
    "pycharm": {
     "name": "#%%\n"
    }
   },
   "outputs": [
    {
     "name": "stdout",
     "output_type": "stream",
     "text": [
      "\n",
      "\n",
      "Total Fraud Transactions:  768  -->  0.08 % of total Transactions\n",
      "Total Non-Fraud Transactions:  933484  -->  99.92 % of total Transactions\n"
     ]
    }
   ],
   "source": [
    "Frauds=FinalData['NewPredict'].value_counts()[1]\n",
    "Non_Frauds=FinalData['NewPredict'].value_counts()[0]\n",
    "print('\\n\\nTotal Fraud Transactions: ',Frauds,' --> ',round(Frauds/(Frauds+Non_Frauds)*100,2),'% of total Transactions')\n",
    "print('Total Non-Fraud Transactions: ',Non_Frauds,' --> ',round(Non_Frauds/(Frauds+Non_Frauds)*100,2),'% of total Transactions')"
   ]
  },
  {
   "cell_type": "markdown",
   "metadata": {
    "pycharm": {
     "name": "#%% md\n"
    }
   },
   "source": [
    "<H2>Conclusion:</h2>\n",
    "<H3>To conclude, it can be inferred that the company can reduce the amount of fraud transactions firstly by not allowing any transaction over the limit at a time. It may also analyse the change of data for the Merchant accounts as well in order to keep a check if any merchant is performing frauds or not. The total endpoint transaction should be preserved in order to reduce incomplete transaction with proper monitoring.</h3>"
   ]
  }
 ],
 "metadata": {
  "kernelspec": {
   "display_name": "Python 3 (ipykernel)",
   "language": "python",
   "name": "python3"
  },
  "language_info": {
   "codemirror_mode": {
    "name": "ipython",
    "version": 3
   },
   "file_extension": ".py",
   "mimetype": "text/x-python",
   "name": "python",
   "nbconvert_exporter": "python",
   "pygments_lexer": "ipython3",
   "version": "3.8.8"
  }
 },
 "nbformat": 4,
 "nbformat_minor": 1
}